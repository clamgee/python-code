{
 "cells": [
  {
   "cell_type": "code",
   "execution_count": 1,
   "metadata": {},
   "outputs": [
    {
     "name": "stdout",
     "output_type": "stream",
     "text": [
      "         期號  前1  前2  前3  前4  前5  前6  后區   預測1   預測2   預測3   預測4   預測5   預測6  \\\n",
      "416  110086  10  18  32  27   3  14   7  37.0  16.0  32.0  10.0  19.0  22.0   \n",
      "417  110087  37  16  32  10  19  22   6  38.0  11.0   5.0  37.0   9.0  35.0   \n",
      "418  110088  38  11   5  37   9  35   4   6.0  33.0  30.0  22.0   8.0  18.0   \n",
      "419  110089   6  33  30  22   8  18   4  37.0   8.0   2.0  12.0   1.0  33.0   \n",
      "420  110090  37   8   2  12   1  33   2   NaN   NaN   NaN   NaN   NaN   NaN   \n",
      "\n",
      "     預測2區  \n",
      "416   6.0  \n",
      "417   4.0  \n",
      "418   4.0  \n",
      "419   2.0  \n",
      "420   NaN  \n",
      "(421, 15)\n"
     ]
    }
   ],
   "source": [
    "import numpy as np\n",
    "import pandas as pd\n",
    "lottorydf = pd.read_csv('lottory.csv')\n",
    "lottorydf=lottorydf.sort_values(by=['期號'],ascending=True)\n",
    "lottorydf=lottorydf.reset_index(drop=True)\n",
    "lottorydf[['預測1','預測2','預測3','預測4','預測5','預測6','預測2區']] = lottorydf[['前1','前2','前3','前4','前5','前6','后區']].shift(-1)\n",
    "print(lottorydf.tail())\n",
    "print(lottorydf.shape)"
   ]
  },
  {
   "cell_type": "code",
   "execution_count": 2,
   "metadata": {},
   "outputs": [
    {
     "name": "stdout",
     "output_type": "stream",
     "text": [
      "         期號        前1        前2        前3        前4        前5        前6  \\\n",
      "416  110086  0.263158  0.473684  0.842105  0.710526  0.078947  0.368421   \n",
      "417  110087  0.973684  0.421053  0.842105  0.263158  0.500000  0.578947   \n",
      "418  110088  1.000000  0.289474  0.131579  0.973684  0.236842  0.921053   \n",
      "419  110089  0.157895  0.868421  0.789474  0.578947  0.210526  0.473684   \n",
      "420  110090  0.973684  0.210526  0.052632  0.315789  0.026316  0.868421   \n",
      "\n",
      "        后區       預測1       預測2       預測3       預測4       預測5       預測6  預測2區  \n",
      "416  0.875  0.973684  0.421053  0.842105  0.263158  0.500000  0.578947  0.75  \n",
      "417  0.750  1.000000  0.289474  0.131579  0.973684  0.236842  0.921053  0.50  \n",
      "418  0.500  0.157895  0.868421  0.789474  0.578947  0.210526  0.473684  0.50  \n",
      "419  0.500  0.973684  0.210526  0.052632  0.315789  0.026316  0.868421  0.25  \n",
      "420  0.250       NaN       NaN       NaN       NaN       NaN       NaN   NaN  \n"
     ]
    }
   ],
   "source": [
    "# print(lottorydf.iloc[:,8:14]/38)\n",
    "lottorydf[['預測1','預測2','預測3','預測4','預測5','預測6']]=lottorydf[['預測1','預測2','預測3','預測4','預測5','預測6']]/38\n",
    "lottorydf[['前1','前2','前3','前4','前5','前6']]=lottorydf[['前1','前2','前3','前4','前5','前6']]/38\n",
    "lottorydf[['后區','預測2區']]=lottorydf[['后區','預測2區']]/8\n",
    "print(lottorydf.tail())"
   ]
  },
  {
   "cell_type": "code",
   "execution_count": 3,
   "metadata": {},
   "outputs": [],
   "source": [
    "def preparedata(df, ref_day, predict_day):\n",
    "    X_train, Y_train = [], []\n",
    "    for i in range(df.shape[0]-predict_day-ref_day+1):\n",
    "        X_train.append(np.array(df.iloc[i:i+ref_day,1:8]))\n",
    "        Y_train.append(np.array(df.iloc[i+ref_day:i+ref_day+predict_day,8:15]))\n",
    "    return np.array(X_train), np.array(Y_train)"
   ]
  },
  {
   "cell_type": "code",
   "execution_count": 6,
   "metadata": {},
   "outputs": [
    {
     "name": "stdout",
     "output_type": "stream",
     "text": [
      "3 (395, 8, 7)\n"
     ]
    }
   ],
   "source": [
    "X_train,Y_train= preparedata(lottorydf[:lottorydf.shape[0]-18],8,1)\n",
    "print(np.ndim(X_train),X_train.shape)\n",
    "# X_train=X_train.transpose(0,2,1)\n",
    "# Y_train=Y_train.transpose(0,2,1)\n",
    "# print(X_train.shape,len(X_train),Y_train.shape,len(Y_train),X_train.ndim)\n",
    "X_test,Y_test = preparedata(lottorydf[lottorydf.shape[0]-18:],8,1)\n",
    "# X_test=X_test.transpose(0,2,1)\n",
    "# Y_test=Y_test.transpose(0,2,1)\n",
    "# print(X_test.shape,len(X_test),Y_test.shape,len(Y_test),X_test.ndim)"
   ]
  },
  {
   "cell_type": "code",
   "execution_count": 8,
   "metadata": {},
   "outputs": [],
   "source": [
    "from tensorflow.keras import Sequential\n",
    "from tensorflow.keras.layers import LSTM,Dense,Activation\n",
    "import tensorflow as tf"
   ]
  },
  {
   "cell_type": "code",
   "execution_count": 17,
   "metadata": {},
   "outputs": [
    {
     "name": "stdout",
     "output_type": "stream",
     "text": [
      "WARNING:tensorflow:Layer lstm_2 will not use cuDNN kernels since it doesn't meet the criteria. It will use a generic GPU kernel as fallback when running on GPU.\n",
      "Model: \"sequential_2\"\n",
      "_________________________________________________________________\n",
      "Layer (type)                 Output Shape              Param #   \n",
      "=================================================================\n",
      "lstm_2 (LSTM)                (None, 64)                18432     \n",
      "_________________________________________________________________\n",
      "dense_2 (Dense)              (None, 7)                 455       \n",
      "=================================================================\n",
      "Total params: 18,887\n",
      "Trainable params: 18,887\n",
      "Non-trainable params: 0\n",
      "_________________________________________________________________\n"
     ]
    }
   ],
   "source": [
    "model = Sequential()\n",
    "model.add(LSTM(64,input_shape=(8,7),input_dim=3,activation='relu'))#, return_sequences=True, stateful=True))\n",
    "model.add(Dense(7,activation='sigmoid'))\n",
    "model.compile(optimizer = 'adam', loss = 'mean_squared_error',metrics = ['accuracy'])\n",
    "model.summary()"
   ]
  },
  {
   "cell_type": "code",
   "execution_count": 18,
   "metadata": {},
   "outputs": [
    {
     "name": "stdout",
     "output_type": "stream",
     "text": [
      "Epoch 1/10\n",
      "395/395 [==============================] - 33s 78ms/step - loss: 0.0307 - accuracy: 0.8481\n",
      "Epoch 2/10\n",
      "395/395 [==============================] - 30s 77ms/step - loss: 0.0273 - accuracy: 0.8633\n",
      "Epoch 3/10\n",
      "395/395 [==============================] - 31s 78ms/step - loss: 0.0273 - accuracy: 0.8633\n",
      "Epoch 4/10\n",
      "395/395 [==============================] - 31s 78ms/step - loss: 0.0272 - accuracy: 0.8633\n",
      "Epoch 5/10\n",
      "395/395 [==============================] - 30s 77ms/step - loss: 0.0272 - accuracy: 0.8633\n",
      "Epoch 6/10\n",
      "395/395 [==============================] - 31s 79ms/step - loss: 0.0271 - accuracy: 0.8633\n",
      "Epoch 7/10\n",
      "395/395 [==============================] - 29s 73ms/step - loss: 0.0270 - accuracy: 0.8633\n",
      "Epoch 8/10\n",
      "395/395 [==============================] - 28s 71ms/step - loss: 0.0270 - accuracy: 0.8633\n",
      "Epoch 9/10\n",
      "395/395 [==============================] - 28s 72ms/step - loss: 0.0270 - accuracy: 0.8633\n",
      "Epoch 10/10\n",
      "395/395 [==============================] - 29s 72ms/step - loss: 0.0270 - accuracy: 0.8633\n"
     ]
    },
    {
     "data": {
      "text/plain": [
       "<keras.callbacks.History at 0x1c7c1799490>"
      ]
     },
     "execution_count": 18,
     "metadata": {},
     "output_type": "execute_result"
    }
   ],
   "source": [
    "model.fit(X_train,Y_train, epochs=10,batch_size=1)\n"
   ]
  },
  {
   "cell_type": "code",
   "execution_count": 25,
   "metadata": {},
   "outputs": [
    {
     "name": "stdout",
     "output_type": "stream",
     "text": [
      "10/10 [==============================] - 0s 36ms/step - loss: nan - accuracy: 0.3000\n",
      "<class 'numpy.ndarray'>\n",
      "[[0.15219116 0.27219602 0.41418913 0.5639573  0.716949   0.86934704\n",
      "  0.5360265 ]\n",
      " [0.15414523 0.27381685 0.41348058 0.56925887 0.7222875  0.87151706\n",
      "  0.52783775]\n",
      " [0.15410258 0.27208698 0.41504133 0.5686511  0.7192181  0.8726951\n",
      "  0.52695274]\n",
      " [0.1485871  0.26885733 0.41357264 0.5663363  0.71460634 0.87283605\n",
      "  0.53330445]\n",
      " [0.1468177  0.26620507 0.41371    0.5708226  0.7265054  0.8786912\n",
      "  0.52549034]\n",
      " [0.14900531 0.26752552 0.41406044 0.57032615 0.72515965 0.8755789\n",
      "  0.52713454]\n",
      " [0.1546687  0.2753992  0.41780546 0.56102747 0.71431667 0.86858803\n",
      "  0.53496975]\n",
      " [0.1593162  0.28226268 0.41965088 0.5576731  0.7046958  0.8602445\n",
      "  0.5334608 ]\n",
      " [0.16294536 0.2861005  0.41844898 0.55974704 0.7134077  0.86409944\n",
      "  0.5306906 ]\n",
      " [0.155476   0.27615583 0.41747507 0.5612845  0.71797    0.8696358\n",
      "  0.5349814 ]]\n"
     ]
    }
   ],
   "source": [
    "model.evaluate(X_test,Y_test,batch_size=1)\n",
    "predicts = model.predict(X_test,batch_size=1)\n",
    "print(type(predicts))\n",
    "print(predicts)\n",
    "# print(model.predict_classes(X_test,batch_size=1))"
   ]
  },
  {
   "cell_type": "code",
   "execution_count": 27,
   "metadata": {},
   "outputs": [
    {
     "name": "stdout",
     "output_type": "stream",
     "text": [
      "(10, 7)\n"
     ]
    },
    {
     "data": {
      "text/html": [
       "<div>\n",
       "<style scoped>\n",
       "    .dataframe tbody tr th:only-of-type {\n",
       "        vertical-align: middle;\n",
       "    }\n",
       "\n",
       "    .dataframe tbody tr th {\n",
       "        vertical-align: top;\n",
       "    }\n",
       "\n",
       "    .dataframe thead th {\n",
       "        text-align: right;\n",
       "    }\n",
       "</style>\n",
       "<table border=\"1\" class=\"dataframe\">\n",
       "  <thead>\n",
       "    <tr style=\"text-align: right;\">\n",
       "      <th></th>\n",
       "      <th>0</th>\n",
       "      <th>1</th>\n",
       "      <th>2</th>\n",
       "      <th>3</th>\n",
       "      <th>4</th>\n",
       "      <th>5</th>\n",
       "      <th>6</th>\n",
       "    </tr>\n",
       "  </thead>\n",
       "  <tbody>\n",
       "    <tr>\n",
       "      <th>0</th>\n",
       "      <td>5</td>\n",
       "      <td>10</td>\n",
       "      <td>15</td>\n",
       "      <td>21</td>\n",
       "      <td>27</td>\n",
       "      <td>33</td>\n",
       "      <td>4</td>\n",
       "    </tr>\n",
       "    <tr>\n",
       "      <th>1</th>\n",
       "      <td>5</td>\n",
       "      <td>10</td>\n",
       "      <td>15</td>\n",
       "      <td>21</td>\n",
       "      <td>27</td>\n",
       "      <td>33</td>\n",
       "      <td>4</td>\n",
       "    </tr>\n",
       "    <tr>\n",
       "      <th>2</th>\n",
       "      <td>5</td>\n",
       "      <td>10</td>\n",
       "      <td>15</td>\n",
       "      <td>21</td>\n",
       "      <td>27</td>\n",
       "      <td>33</td>\n",
       "      <td>4</td>\n",
       "    </tr>\n",
       "    <tr>\n",
       "      <th>3</th>\n",
       "      <td>5</td>\n",
       "      <td>10</td>\n",
       "      <td>15</td>\n",
       "      <td>21</td>\n",
       "      <td>27</td>\n",
       "      <td>33</td>\n",
       "      <td>4</td>\n",
       "    </tr>\n",
       "    <tr>\n",
       "      <th>4</th>\n",
       "      <td>5</td>\n",
       "      <td>10</td>\n",
       "      <td>15</td>\n",
       "      <td>21</td>\n",
       "      <td>27</td>\n",
       "      <td>33</td>\n",
       "      <td>4</td>\n",
       "    </tr>\n",
       "    <tr>\n",
       "      <th>5</th>\n",
       "      <td>5</td>\n",
       "      <td>10</td>\n",
       "      <td>15</td>\n",
       "      <td>21</td>\n",
       "      <td>27</td>\n",
       "      <td>33</td>\n",
       "      <td>4</td>\n",
       "    </tr>\n",
       "    <tr>\n",
       "      <th>6</th>\n",
       "      <td>5</td>\n",
       "      <td>10</td>\n",
       "      <td>15</td>\n",
       "      <td>21</td>\n",
       "      <td>27</td>\n",
       "      <td>33</td>\n",
       "      <td>4</td>\n",
       "    </tr>\n",
       "    <tr>\n",
       "      <th>7</th>\n",
       "      <td>6</td>\n",
       "      <td>10</td>\n",
       "      <td>15</td>\n",
       "      <td>21</td>\n",
       "      <td>26</td>\n",
       "      <td>32</td>\n",
       "      <td>4</td>\n",
       "    </tr>\n",
       "    <tr>\n",
       "      <th>8</th>\n",
       "      <td>6</td>\n",
       "      <td>10</td>\n",
       "      <td>15</td>\n",
       "      <td>21</td>\n",
       "      <td>27</td>\n",
       "      <td>32</td>\n",
       "      <td>4</td>\n",
       "    </tr>\n",
       "    <tr>\n",
       "      <th>9</th>\n",
       "      <td>5</td>\n",
       "      <td>10</td>\n",
       "      <td>15</td>\n",
       "      <td>21</td>\n",
       "      <td>27</td>\n",
       "      <td>33</td>\n",
       "      <td>4</td>\n",
       "    </tr>\n",
       "  </tbody>\n",
       "</table>\n",
       "</div>"
      ],
      "text/plain": [
       "   0   1   2   3   4   5  6\n",
       "0  5  10  15  21  27  33  4\n",
       "1  5  10  15  21  27  33  4\n",
       "2  5  10  15  21  27  33  4\n",
       "3  5  10  15  21  27  33  4\n",
       "4  5  10  15  21  27  33  4\n",
       "5  5  10  15  21  27  33  4\n",
       "6  5  10  15  21  27  33  4\n",
       "7  6  10  15  21  26  32  4\n",
       "8  6  10  15  21  27  32  4\n",
       "9  5  10  15  21  27  33  4"
      ]
     },
     "execution_count": 27,
     "metadata": {},
     "output_type": "execute_result"
    }
   ],
   "source": [
    "print(predicts.shape)\n",
    "# a = predicts.transpose(0,2,1)\n",
    "# new= a.squeeze()\n",
    "new = pd.DataFrame(predicts)\n",
    "new[[0,1,2,3,4,5]] = new[[0,1,2,3,4,5]]*38\n",
    "new[[6]]=new[[6]]*8\n",
    "new = new.astype(int)\n",
    "new"
   ]
  }
 ],
 "metadata": {
  "interpreter": {
   "hash": "f96efbd20990c9b87154ff1e04974328ba5cd93cb6fdf3bf0ba6a60073362e50"
  },
  "kernelspec": {
   "display_name": "Python 3.9.6 64-bit",
   "language": "python",
   "name": "python3"
  },
  "language_info": {
   "codemirror_mode": {
    "name": "ipython",
    "version": 3
   },
   "file_extension": ".py",
   "mimetype": "text/x-python",
   "name": "python",
   "nbconvert_exporter": "python",
   "pygments_lexer": "ipython3",
   "version": "3.9.6"
  },
  "orig_nbformat": 4
 },
 "nbformat": 4,
 "nbformat_minor": 2
}
