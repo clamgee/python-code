{
 "cells": [
  {
   "cell_type": "code",
   "execution_count": 1,
   "metadata": {},
   "outputs": [
    {
     "name": "stdout",
     "output_type": "stream",
     "text": [
      "                ndatetime   open   high    low  close  volume\n",
      "10225 2021-11-17 10:15:37  17707  17742  17701  17742   12000\n",
      "10226 2021-11-17 11:02:35  17742  17759  17733  17753   12000\n",
      "10227 2021-11-17 11:50:34  17753  17761  17719  17740   12000\n",
      "10228 2021-11-17 12:54:48  17740  17742  17710  17722   12000\n",
      "10229 2021-11-17 13:27:00  17722  17723  17722  17722     976\n"
     ]
    }
   ],
   "source": [
    "import numpy as np\n",
    "import pandas as pd\n",
    "import matplotlib.pyplot as plt\n",
    "import seaborn as sns\n",
    "import math\n",
    "sns.set()\n",
    "Candledf=pd.read_csv('../result.dat',low_memory=False)\n",
    "Candledf['ndatetime']=pd.to_datetime(Candledf['ndatetime'],format='%Y-%m-%d %H:%M:%S.%f')\n",
    "print(Candledf.tail())"
   ]
  },
  {
   "cell_type": "code",
   "execution_count": 2,
   "metadata": {},
   "outputs": [
    {
     "data": {
      "text/plain": [
       "10225    0\n",
       "10226    0\n",
       "10227    0\n",
       "10228    0\n",
       "10229    0\n",
       "Name: close, dtype: int32"
      ]
     },
     "execution_count": 2,
     "metadata": {},
     "output_type": "execute_result"
    }
   ],
   "source": [
    "(Candledf.close.shift(-20) / Candledf.close > 1).astype(int).tail()"
   ]
  },
  {
   "cell_type": "code",
   "execution_count": 3,
   "metadata": {},
   "outputs": [],
   "source": [
    "def triple_barrier(price, ub, lb, max_period):\n",
    "    \n",
    "    def end_price(s):\n",
    "        return np.append(s[(s / s[0] > ub) | (s / s[0] < lb)], s[-1])[0]/s[0]\n",
    "    \n",
    "    r = np.array(range(max_period))\n",
    "    \n",
    "    def end_time(s):\n",
    "        return np.append(r[(s / s[0] > ub) | (s / s[0] < lb)], max_period-1)[0]\n",
    "\n",
    "    p = price.rolling(max_period).apply(end_price, raw=True).shift(-max_period+1)\n",
    "    t = price.rolling(max_period).apply(end_time, raw=True).shift(-max_period+1)\n",
    "    t = pd.Series([t.index[int(k+i)] if not math.isnan(k+i) else np.datetime64('NaT') \n",
    "                   for i, k in enumerate(t)], index=t.index).dropna()\n",
    "\n",
    "    signal = pd.Series(0, p.index)\n",
    "    signal.loc[p > ub] = 1\n",
    "    signal.loc[p < lb] = -1\n",
    "    ret = pd.DataFrame({'triple_barrier_profit':p, 'triple_barrier_sell_time':t, 'triple_barrier_signal':signal})\n",
    "\n",
    "    return ret"
   ]
  },
  {
   "cell_type": "code",
   "execution_count": 12,
   "metadata": {},
   "outputs": [],
   "source": [
    "ret = triple_barrier(Candledf.close, 1.07, 0.97, 20)\n"
   ]
  },
  {
   "cell_type": "code",
   "execution_count": 16,
   "metadata": {},
   "outputs": [
    {
     "data": {
      "text/plain": [
       "triple_barrier_profit       308\n",
       "triple_barrier_sell_time    308\n",
       "triple_barrier_signal       308\n",
       "dtype: int64"
      ]
     },
     "execution_count": 16,
     "metadata": {},
     "output_type": "execute_result"
    }
   ],
   "source": [
    "ret[ret.triple_barrier_signal < 0].count()"
   ]
  }
 ],
 "metadata": {
  "interpreter": {
   "hash": "f96efbd20990c9b87154ff1e04974328ba5cd93cb6fdf3bf0ba6a60073362e50"
  },
  "kernelspec": {
   "display_name": "Python 3.9.6 64-bit",
   "name": "python3"
  },
  "language_info": {
   "codemirror_mode": {
    "name": "ipython",
    "version": 3
   },
   "file_extension": ".py",
   "mimetype": "text/x-python",
   "name": "python",
   "nbconvert_exporter": "python",
   "pygments_lexer": "ipython3",
   "version": "3.9.6"
  },
  "orig_nbformat": 4
 },
 "nbformat": 4,
 "nbformat_minor": 2
}
