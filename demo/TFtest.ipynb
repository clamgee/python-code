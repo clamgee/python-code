{
 "cells": [
  {
   "cell_type": "code",
   "execution_count": 1,
   "metadata": {},
   "outputs": [],
   "source": [
    "import pandas as pd\n",
    "import numpy as np\n",
    "import time\n",
    "import datetime\n",
    "import os\n",
    "\n",
    "N_STATES = 5   # ['action','close-avg','deal','amp_cover','vol_cover'] \n",
    "ACTIONS = ['None','Buy','Sell','OpenInteres','close-avg','deal','amp_cover','vol_cover'] #行為 空手、買進、賣出、持有、多單平倉、空單平倉\n",
    "# ACTIONS = ['action','close-avg','deal','amp_cover','vol_cover']     # 探索者的可用动作\n",
    "EPSILON = 0.9   # 贪婪度 greedy\n",
    "ALPHA = 0.1     # 学习率\n",
    "GAMMA = 0.9    # 奖励递减值\n",
    "MAX_EPISODES = 13   # 最大回合数\n",
    "FRESH_TIME = 0.3    # 移动间隔时间\n",
    "global OpenInteres\n",
    "OpenInteres = 0 # 是否持倉中\n",
    "global priceAtPurchase #損益\n",
    "priceAtPurchase = 0\n"
   ]
  },
  {
   "cell_type": "code",
   "execution_count": 2,
   "metadata": {},
   "outputs": [
    {
     "name": "stdout",
     "output_type": "stream",
     "text": [
      "Ticks2021-12-14.txt\n",
      "              ndatetime  close_Avg     deal  amplitude  volume  close\n",
      "296 2021-12-14 13:40:00 -20.774411  17732.0          7   700.0  17605\n",
      "297 2021-12-14 13:41:00 -24.691275  17774.0          5   424.0  17601\n",
      "298 2021-12-14 13:42:00 -23.612040  17808.0          6   644.0  17602\n",
      "299 2021-12-14 13:43:00 -22.536667  17808.0          4   498.0  17603\n",
      "300 2021-12-14 13:44:00 -20.468439  17886.0          5  1304.0  17605\n"
     ]
    }
   ],
   "source": [
    "direct=os.path.abspath('../data')\n",
    "filelist = os.listdir('../data')\n",
    "file = filelist[-1]\n",
    "print(file)\n",
    "dayticks = pd.read_csv(direct+'\\\\'+file,header=None,names=['ndatetime','nbid','nask','close','volume','deal'])\n",
    "dayticks['ndatetime'] = pd.to_datetime(dayticks['ndatetime'], format='%Y-%m-%d %H:%M:%S.%f')\n",
    "dayticks.sort_values(by=['ndatetime'],ascending=True)\n",
    "dayticks=dayticks[(dayticks.ndatetime.dt.hour>=8) & (dayticks.ndatetime.dt.hour<15)]\n",
    "dayticks.index = dayticks.ndatetime\n",
    "Candledf=dayticks['close'].resample('1min',closed='right').ohlc()\n",
    "tmpdf=dayticks['volume'].resample('1min').sum()\n",
    "Candledf=pd.concat([Candledf,tmpdf],axis=1)\n",
    "del tmpdf\n",
    "tmpdf=dayticks['deal'].resample('1min').sum()\n",
    "Candledf=pd.concat([Candledf,tmpdf],axis=1)\n",
    "del tmpdf\n",
    "Candledf['dealcumsum']=Candledf['deal'].cumsum()\n",
    "del Candledf['deal']\n",
    "Candledf.rename(columns={'dealcumsum':'deal'},inplace=True)\n",
    "Candledf=Candledf.rename_axis('ndatetime').reset_index()\n",
    "Candledf['ndatetime'] = pd.to_datetime(Candledf['ndatetime'], format='%Y-%m-%d %H:%M:%S.%f')\n",
    "Candledf.sort_values(by=['ndatetime'],ascending=True)\n",
    "tmpline=Candledf.close.cumsum()\n",
    "Candledf['Avg_line'] = tmpline.apply(lambda x: x/(tmpline[tmpline==x].index[0]+1))\n",
    "del tmpline\n",
    "Candledf['amplitude'] = Candledf.high - Candledf.low\n",
    "Candledf['close_Avg'] = Candledf.close - Candledf.Avg_line\n",
    "global CandleData\n",
    "CandleData = Candledf[['ndatetime','close_Avg','deal','amplitude','volume','close']]\n",
    "print(CandleData.tail())\n",
    "global Total_Trade\n",
    "Total_Trade = CandleData.shape[0]\n",
    "Start_Run_Trade = 3\n",
    "\n"
   ]
  },
  {
   "cell_type": "code",
   "execution_count": 30,
   "metadata": {},
   "outputs": [
    {
     "name": "stdout",
     "output_type": "stream",
     "text": [
      "Empty DataFrame\n",
      "Columns: [None, Buy, Sell, OpenInteres, close-avg, deal, amp_cover, vol_cover]\n",
      "Index: []\n",
      "None    0.0\n",
      "Buy     0.0\n",
      "Sell    0.0\n",
      "Name: state, dtype: float64\n"
     ]
    }
   ],
   "source": [
    "QT = pd.DataFrame(columns=ACTIONS,dtype=np.float32)\n",
    "print(QT)\n",
    "QT=QT.append(pd.Series([0]*len(ACTIONS),index=ACTIONS,name='state'))\n",
    "print(QT.loc['state',QT.columns[:3]])"
   ]
  },
  {
   "cell_type": "code",
   "execution_count": null,
   "metadata": {},
   "outputs": [],
   "source": [
    "class QLearning:\n",
    "    def __init__(self,actionslist=None,LearnRate=0.01,disscount_factory=0.9,e_greedy=0.1):\n",
    "        self.actions = actionslist # action 列表\n",
    "        self.lr = LearnRate #學習效率\n",
    "        self.gamma = disscount_factory # 折扣因子\n",
    "        self.espilon = e_greedy #貪婪度\n",
    "        self.q_table = pd.DataFrame(columns=self.actions,dtype=np.float32) #建立空Q Table\n",
    "        self.openInteres = 0\n",
    "        \n",
    "    def check_state_exist(self,state):\n",
    "        if state not in self.q_table.index:\n",
    "            self.q_table = self.q_table.append(pd.Series([0]*len(self.actions),index=self.q_table.columns,name=state))\n",
    "    \n",
    "    def choose_action(self,state):\n",
    "        self.check_state_exist(state)\n",
    "        #隨機選行為 Epsilon Greedy貪婪方法\n",
    "        if np.random.uniform()>self.espilon:\n",
    "            #隨機選 1個action\n",
    "            action = np.random.choice(self.actions[:3])\n",
    "        else: #取Q值最高的action\n",
    "            state_action = self.q_table.loc[state,:3]\n",
    "            state_action = state_action.reindex(np.random.permutation(state_action.index))\n",
    "            # 取當下最大Q值\n",
    "            action = state_action.idxmax()\n",
    "        return action\n",
    "    # Q Table 學習\n",
    "    def learn(self,s,a,r,s_): #state,action,result,s_(下個state)\n",
    "        #檢查下個 state\n",
    "        self.check_state_exist(s_) #檢查s_ 是否在q_table\n",
    "        # Q(S,A) <- Q(S,A)+a*[R+v*max(Q(S',a)-Q(S,A))]\n",
    "        q_predict = self.q_table[s,a] #根據Q表 得到 預估值 predict\n",
    "        #q_target 現實值\n",
    "        if s_ != 'terminal': #下一步 不是最終\n",
    "            q_target = r + self.gamma * self.q_table[s_,:].max() \n",
    "        else: # 下一步終結\n",
    "            q_target = r \n",
    "        # 更新Q表\n",
    "        self.q_table.loc[s,a] += self.lr * (q_target - q_predict)\n"
   ]
  },
  {
   "cell_type": "code",
   "execution_count": null,
   "metadata": {},
   "outputs": [],
   "source": [
    "QT = QLearning(actionslist=ACTIONS)\n",
    "QT.choose_action(1)\n"
   ]
  },
  {
   "cell_type": "code",
   "execution_count": null,
   "metadata": {},
   "outputs": [],
   "source": [
    "# https://blog.csdn.net/joinquantdata/article/details/87254611?spm=1001.2101.3001.6650.6&utm_medium=distribute.pc_relevant.none-task-blog-2%7Edefault%7EBlogCommendFromBaidu%7Edefault-6.no_search_link&depth_1-utm_source=distribute.pc_relevant.none-task-blog-2%7Edefault%7EBlogCommendFromBaidu%7Edefault-6.no_search_link\n",
    "class Market:\n",
    "    def __init__(self,data) -> None:\n",
    "        self.action_list = ['Buy','Sell','Wait'] # 買進、賣出、觀望\n",
    "        self.actions = len(self.action_list)\n",
    "        self.data = data # 1分鐘 K線資料\n",
    "        self.idx = 10 #預設開始跑策略的K線\n",
    "        self.time = self.data.at[self.idx,'ndatetime'].time().strftime('%H:%M')\n",
    "        self.OpenInterest = 0\n",
    "\n",
    "    def get_state(self,idx):\n",
    "        if idx > self.idx:\n",
    "            state = self.data.loc[idx,['close_Avg','dealcumsum','amplitude','volume','close']]\n",
    "        return state\n",
    "\n",
    "    def step(self,action):\n"
   ]
  }
 ],
 "metadata": {
  "interpreter": {
   "hash": "f96efbd20990c9b87154ff1e04974328ba5cd93cb6fdf3bf0ba6a60073362e50"
  },
  "kernelspec": {
   "display_name": "Python 3.9.6 64-bit",
   "name": "python3"
  },
  "language_info": {
   "codemirror_mode": {
    "name": "ipython",
    "version": 3
   },
   "file_extension": ".py",
   "mimetype": "text/x-python",
   "name": "python",
   "nbconvert_exporter": "python",
   "pygments_lexer": "ipython3",
   "version": "3.9.6"
  },
  "orig_nbformat": 4
 },
 "nbformat": 4,
 "nbformat_minor": 2
}
