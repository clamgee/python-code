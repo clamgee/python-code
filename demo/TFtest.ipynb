{
 "cells": [
  {
   "cell_type": "code",
   "execution_count": 28,
   "metadata": {},
   "outputs": [],
   "source": [
    "import pandas as pd\n",
    "import numpy as np\n",
    "import time\n",
    "import datetime\n",
    "import os\n",
    "\n",
    "N_STATES = 5   # ['action','close-avg','deal','amp_cover','vol_cover'] \n",
    "ACTIONS = ['None','Buy','Sell','OpenInteres','close-avg','deal','amp_cover','vol_cover'] #行為 空手、買進、賣出、持有、多單平倉、空單平倉\n",
    "# ACTIONS = ['action','close-avg','deal','amp_cover','vol_cover']     # 探索者的可用动作\n",
    "EPSILON = 0.9   # 贪婪度 greedy\n",
    "ALPHA = 0.1     # 学习率\n",
    "GAMMA = 0.9    # 奖励递减值\n",
    "MAX_EPISODES = 13   # 最大回合数\n",
    "FRESH_TIME = 0.3    # 移动间隔时间\n",
    "global OpenInteres\n",
    "OpenInteres = 0 # 是否持倉中\n",
    "global priceAtPurchase #損益\n",
    "priceAtPurchase = 0\n"
   ]
  },
  {
   "cell_type": "code",
   "execution_count": 29,
   "metadata": {},
   "outputs": [],
   "source": [
    "def get_data():\n",
    "    direct=os.path.abspath('../data')\n",
    "    filelist = os.listdir('../data')\n",
    "    file = filelist[-1]\n",
    "    print(file)\n",
    "    dayticks = pd.read_csv(direct+'\\\\'+file,header=None,names=['ndatetime','nbid','nask','close','volume','deal'])\n",
    "    dayticks['ndatetime'] = pd.to_datetime(dayticks['ndatetime'], format='%Y-%m-%d %H:%M:%S.%f')\n",
    "    dayticks.sort_values(by=['ndatetime'],ascending=True)\n",
    "    dayticks=dayticks[(dayticks.ndatetime.dt.hour>=8) & (dayticks.ndatetime.dt.hour<15)]\n",
    "    dayticks.index = dayticks.ndatetime\n",
    "    Candledf=dayticks['close'].resample('1min',closed='right').ohlc()\n",
    "    tmpdf=dayticks['volume'].resample('1min').sum()\n",
    "    Candledf=pd.concat([Candledf,tmpdf],axis=1)\n",
    "    del tmpdf\n",
    "    tmpdf=dayticks['deal'].resample('1min').sum()\n",
    "    Candledf=pd.concat([Candledf,tmpdf],axis=1)\n",
    "    del tmpdf\n",
    "    Candledf['dealcumsum']=Candledf['deal'].cumsum()\n",
    "    del Candledf['deal']\n",
    "    Candledf.rename(columns={'dealcumsum':'deal'},inplace=True)\n",
    "    Candledf=Candledf.rename_axis('ndatetime').reset_index()\n",
    "    Candledf['ndatetime'] = pd.to_datetime(Candledf['ndatetime'], format='%Y-%m-%d %H:%M:%S.%f')\n",
    "    Candledf.sort_values(by=['ndatetime'],ascending=True)\n",
    "    tmpline=Candledf.close.cumsum()\n",
    "    Candledf['Avg_line'] = tmpline.apply(lambda x: x/(tmpline[tmpline==x].index[0]+1))\n",
    "    del tmpline\n",
    "    Candledf['amplitude'] = Candledf.high - Candledf.low\n",
    "    Candledf['close_Avg'] = Candledf.close - Candledf.Avg_line\n",
    "    Candledf['close_diff'] = Candledf.close-Candledf.close.shift(1).fillna(Candledf.close)\n",
    "    global CandleData\n",
    "    CandleData = Candledf[['ndatetime','close_Avg','deal','amplitude','volume','close','close_diff']]\n",
    "    print(CandleData.tail())\n",
    "    return CandleData"
   ]
  },
  {
   "cell_type": "code",
   "execution_count": 30,
   "metadata": {},
   "outputs": [],
   "source": [
    "# data = get_data()\n",
    "# QT = pd.DataFrame(columns=ACTIONS,dtype=np.float32)\n",
    "# print(QT)\n",
    "# QT=QT.append(pd.Series([0]*len(ACTIONS),index=ACTIONS,name='state'))\n",
    "# print(QT.loc['state',QT.columns])"
   ]
  },
  {
   "cell_type": "code",
   "execution_count": 31,
   "metadata": {},
   "outputs": [],
   "source": [
    "class QLearning:\n",
    "    def __init__(self,actionslist=None,LearnRate=0.01,disscount_factory=0.9,e_greedy=0.1):\n",
    "        self.actions = actionslist # action 列表\n",
    "        self.lr = LearnRate #學習效率\n",
    "        self.gamma = disscount_factory # 折扣因子\n",
    "        self.espilon = e_greedy #貪婪度\n",
    "        self.q_table = pd.DataFrame(columns=self.actions,dtype=np.float32) #建立空Q Table\n",
    "        self.openInteres = 0\n",
    "        \n",
    "    def check_state_exist(self,state):\n",
    "        if state.name not in self.q_table.index:\n",
    "            self.q_table = self.q_table.append(pd.Series([0]*len(self.actions[:4])+state.to_list()\n",
    "            ,index=self.q_table.columns,name=state.name))\n",
    "    \n",
    "    def choose_action(self,state):\n",
    "        self.check_state_exist(state)\n",
    "        #隨機選行為 Epsilon Greedy貪婪方法\n",
    "        if np.random.uniform()>self.espilon:\n",
    "        # if np.random.uniform()>1:\n",
    "            #隨機選 1個action\n",
    "            action = np.random.choice(self.actions[:3])\n",
    "        else: #取Q值最高的action\n",
    "            # print(state.name)\n",
    "            # self.q_table.loc[state.name,'Wait'] = 1\n",
    "            state_action = self.q_table.loc[state.name,['Wait','Buy','Sell']]\n",
    "            # state_action = state_action.reindex(np.random.permutation(state_action.index))\n",
    "            # 取當下最大Q值\n",
    "            # print(state_action[state_action == state_action.max()].index,'動作列')\n",
    "            action = state_action.index[state_action == state_action.max()].to_list()            \n",
    "            action = str(action[0])\n",
    "            # action = state_action.idxmax()\n",
    "        return action\n",
    "    # Q Table 學習\n",
    "    def learn(self,s,a,r,s_): #state,action,result,s_(下個state)\n",
    "        #檢查下個 state\n",
    "        self.check_state_exist(s_) #檢查s_ 是否在q_table\n",
    "        # Q(S,A) <- Q(S,A)+a*[R+v*max(Q(S',a)-Q(S,A))]\n",
    "        q_predict = self.q_table.loc[s.name,a] #根據Q表 得到 預估值 predict\n",
    "        #q_target 現實值\n",
    "        if s_.name != -100: #下一步 不是最終\n",
    "            if a == 'Buy':\n",
    "                q_target = r + self.gamma * self.q_table.loc[s_.name,['Wait','Buy','Sell']].max()\n",
    "            if a == 'Sell': \n",
    "                q_target = r + self.gamma * self.q_table.loc[s_.name,['Wait','Buy','Sell']].min()\n",
    "            if a == 'Wait':\n",
    "                q_target = r \n",
    "        else: # 下一步終結\n",
    "            q_target = r \n",
    "        # 更新Q表\n",
    "        self.q_table.loc[s.name,a] += self.lr * (q_target - q_predict)\n"
   ]
  },
  {
   "cell_type": "code",
   "execution_count": 32,
   "metadata": {},
   "outputs": [],
   "source": [
    "# QT = QLearning(actionslist=ACTIONS)\n",
    "# QT.choose_action(1)\n"
   ]
  },
  {
   "cell_type": "code",
   "execution_count": 33,
   "metadata": {},
   "outputs": [],
   "source": [
    "# https://blog.csdn.net/joinquantdata/article/details/87254611?spm=1001.2101.3001.6650.6&utm_medium=distribute.pc_relevant.none-task-blog-2%7Edefault%7EBlogCommendFromBaidu%7Edefault-6.no_search_link&depth_1-utm_source=distribute.pc_relevant.none-task-blog-2%7Edefault%7EBlogCommendFromBaidu%7Edefault-6.no_search_link\n",
    "class Market:\n",
    "    def __init__(self,data) -> None:\n",
    "        self.action_list = ['Wait','Buy','Sell','OpenInteres','ndatetime','close_Avg','deal','amplitude','volume','close','close_diff'] # 買進、賣出、觀望\n",
    "        self.actions = len(self.action_list)\n",
    "        self.data = data # 1分鐘 K線資料\n",
    "        self.idx = 10 #預設開始跑策略的K線\n",
    "        self.time = self.data.at[self.idx,'ndatetime'].time().strftime('%H:%M')\n",
    "        self.OpenInterest = 0\n",
    "\n",
    "    def get_state(self,idx):\n",
    "        \n",
    "        return self.data.loc[idx,:] #ndatetime  close_Avg  deal  amplitude  volume  close  close_diff\n",
    "\n",
    "    def step(self,idx,action):\n",
    "        state = self.get_state(idx)\n",
    "        ntime = state['ndatetime'].time().strftime('%H:%M:%S')\n",
    "        if ntime == '13:20:00':\n",
    "            done = True\n",
    "            reward = 0\n",
    "            s_ = -100\n",
    "        else:\n",
    "            done = False\n",
    "            reward = self.data.at[idx,'close_diff']\n",
    "            s_ = idx + 1\n",
    "\n",
    "        if action == 'Buy':\n",
    "            pass\n",
    "        if action == 'Sell':\n",
    "            reward = reward * -1\n",
    "        if action == 'Wait':\n",
    "            reward = 0\n",
    "        if s_ != -100:\n",
    "            s_ = idx + 1\n",
    "    \n",
    "        return s_,reward,done\n",
    "\n",
    "    def reset(self):\n",
    "        self.idx=10\n",
    "        return self.idx\n"
   ]
  },
  {
   "cell_type": "code",
   "execution_count": 34,
   "metadata": {},
   "outputs": [],
   "source": [
    "def update(CandleData):\n",
    "    evn = Market(CandleData)\n",
    "    RL = QLearning(evn.action_list)\n",
    "    \n",
    "    for episode in range(275):\n",
    "        idx = evn.reset()\n",
    "        step_count = 0\n",
    "        while True:\n",
    "            state = evn.get_state(idx)\n",
    "            action = RL.choose_action(state)\n",
    "            idx_,reward,done = evn.step(idx,action)\n",
    "            if done:\n",
    "                break\n",
    "            else: \n",
    "                state_ = evn.get_state(idx_)\n",
    "                # step_count+=1\n",
    "                RL.learn(state,action,reward,state_)\n",
    "                idx = idx_\n",
    "            # print(idx,action)\n",
    "    return RL.q_table\n",
    "\n"
   ]
  },
  {
   "cell_type": "code",
   "execution_count": 35,
   "metadata": {},
   "outputs": [
    {
     "name": "stdout",
     "output_type": "stream",
     "text": [
      "Ticks2021-12-28.txt\n",
      "              ndatetime  close_Avg  deal  amplitude  volume  close  close_diff\n",
      "296 2021-12-28 13:41:00  47.838384  4195          3     224  18204         1.0\n",
      "297 2021-12-28 13:42:00  48.674497  4162          2     315  18205         1.0\n",
      "298 2021-12-28 13:43:00  49.508361  4266          2     250  18206         1.0\n",
      "299 2021-12-28 13:44:00  51.336667  4429          5     921  18208         2.0\n",
      "300 2021-12-28 13:45:00  50.169435  4426          0       3  18207        -1.0\n",
      "     Wait       Buy      Sell  OpenInteres           ndatetime  close_Avg  \\\n",
      "271   0.0 -1.255731  1.353148          0.0 2021-12-28 13:16:00  32.227941   \n",
      "272   0.0  1.820985 -1.607472          0.0 2021-12-28 13:17:00  34.102564   \n",
      "273   0.0 -1.267935  1.245527          0.0 2021-12-28 13:18:00  31.985401   \n",
      "274   0.0  0.000000  0.000000          0.0 2021-12-28 13:19:00  31.869091   \n",
      "275   0.0  0.000000  0.000000          0.0 2021-12-28 13:20:00  32.750000   \n",
      "\n",
      "       deal  amplitude  volume    close  close_diff  \n",
      "271  3434.0        4.0    75.0  18185.0        -3.0  \n",
      "272  3477.0        4.0   169.0  18187.0         2.0  \n",
      "273  3467.0        2.0    44.0  18185.0        -2.0  \n",
      "274  3457.0        2.0    34.0  18185.0         0.0  \n",
      "275  3451.0        3.0    80.0  18186.0         1.0  \n"
     ]
    }
   ],
   "source": [
    "data = get_data()\n",
    "q_table = update(data)\n",
    "print(q_table.tail())\n",
    "\n",
    "# evn = Market(data)\n",
    "# state = evn.get_state(10)\n",
    "# RL = QLearning(evn.action_list)\n",
    "# RL.check_state_exist(state)\n",
    "# action = RL.choose_action(state)\n",
    "# print(action)\n",
    "# print(RL.q_table.loc[10,['Wait','Buy','Sell']])\n",
    "\n"
   ]
  },
  {
   "cell_type": "code",
   "execution_count": 36,
   "metadata": {},
   "outputs": [
    {
     "name": "stdout",
     "output_type": "stream",
     "text": [
      "259.05370462909593 -135.85181641789626 62.0\n"
     ]
    }
   ],
   "source": [
    "print(q_table.Buy.sum(),q_table.Sell.sum(),q_table.close_diff.sum())"
   ]
  }
 ],
 "metadata": {
  "interpreter": {
   "hash": "f96efbd20990c9b87154ff1e04974328ba5cd93cb6fdf3bf0ba6a60073362e50"
  },
  "kernelspec": {
   "display_name": "Python 3.9.6 64-bit",
   "name": "python3"
  },
  "language_info": {
   "codemirror_mode": {
    "name": "ipython",
    "version": 3
   },
   "file_extension": ".py",
   "mimetype": "text/x-python",
   "name": "python",
   "nbconvert_exporter": "python",
   "pygments_lexer": "ipython3",
   "version": "3.9.6"
  },
  "orig_nbformat": 4
 },
 "nbformat": 4,
 "nbformat_minor": 2
}
