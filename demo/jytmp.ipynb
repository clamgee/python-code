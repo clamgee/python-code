{
 "cells": [
  {
   "cell_type": "code",
   "execution_count": null,
   "metadata": {},
   "outputs": [],
   "source": [
    "import pandas as pd\n",
    "import numpy as np\n",
    "# Candledf = pd.read_csv('../result.dat',low_memory=False)\n",
    "# Candledf['ndatetime']=pd.to_datetime(Candledf['ndatetime'],format='%Y-%m-%d %H:%M:%S.%f')\n",
    "# print(Candledf.tail())\n"
   ]
  },
  {
   "cell_type": "code",
   "execution_count": null,
   "metadata": {},
   "outputs": [],
   "source": [
    "def normalize(df):\n",
    "    norm = df.apply(lambda x: (x - np.min(x)) / (np.max(x) - np.min(x)))\n",
    "    return norm"
   ]
  },
  {
   "cell_type": "code",
   "execution_count": 36,
   "metadata": {},
   "outputs": [
    {
     "name": "stdout",
     "output_type": "stream",
     "text": [
      "Ticks2021-08-16.txt\n",
      "829 300\n"
     ]
    }
   ],
   "source": [
    "import os\n",
    "direct=os.path.abspath('../data')\n",
    "filelist = os.listdir('../data')\n",
    "file = filelist[-50]\n",
    "print(file)\n",
    "tmp = pd.read_csv(direct+'\\\\'+file,header=None,names=['ndatetime','nbid','nask','close','volume','deal'])\n",
    "tmp['ndatetime']=pd.to_datetime(tmp['ndatetime'],format='%Y-%m-%d %H:%M:%S.%f')\n",
    "tmp.sort_values(by=['ndatetime'],ascending=True)\n",
    "tmp.index = tmp.ndatetime\n",
    "tmpdf=tmp['close'].resample('1min',closed='right').ohlc()\n",
    "tmpdf = tmpdf.dropna()\n",
    "tmpdf=tmpdf.rename_axis('ndatetime').reset_index()\n",
    "tmpdf['ndatetime'] = pd.to_datetime(tmpdf['ndatetime'], format='%Y-%m-%d %H:%M:%S.%f')\n",
    "\n",
    "nightticks=tmpdf[(tmpdf.ndatetime.dt.hour>14) | (tmpdf.ndatetime.dt.hour<8)] # 夜盤\n",
    "dayticks=tmpdf[(tmpdf.ndatetime.dt.hour>=8) & (tmpdf.ndatetime.dt.hour<14)] # 日盤\n",
    "print(nightticks.shape[0],dayticks.shape[0])"
   ]
  },
  {
   "cell_type": "code",
   "execution_count": null,
   "metadata": {},
   "outputs": [],
   "source": []
  }
 ],
 "metadata": {
  "interpreter": {
   "hash": "f96efbd20990c9b87154ff1e04974328ba5cd93cb6fdf3bf0ba6a60073362e50"
  },
  "kernelspec": {
   "display_name": "Python 3.9.6 64-bit",
   "name": "python3"
  },
  "language_info": {
   "codemirror_mode": {
    "name": "ipython",
    "version": 3
   },
   "file_extension": ".py",
   "mimetype": "text/x-python",
   "name": "python",
   "nbconvert_exporter": "python",
   "pygments_lexer": "ipython3",
   "version": "3.9.6"
  },
  "orig_nbformat": 4
 },
 "nbformat": 4,
 "nbformat_minor": 2
}
