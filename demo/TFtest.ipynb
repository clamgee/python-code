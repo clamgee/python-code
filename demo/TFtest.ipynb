{
 "cells": [
  {
   "cell_type": "code",
   "execution_count": 15,
   "metadata": {},
   "outputs": [],
   "source": [
    "import pandas as pd\n",
    "import numpy as np\n",
    "import time\n",
    "import datetime\n",
    "import os\n",
    "\n",
    "N_STATES = 5   # 1维世界的宽度 0:買進,1:買進平倉,2:賣出,3:賣出平倉, 4:無動作\n",
    "ACTIONS = ['close-avg','deal','amp_cover','vol_cover']     # 探索者的可用动作\n",
    "EPSILON = 0.9   # 贪婪度 greedy\n",
    "ALPHA = 0.1     # 学习率\n",
    "GAMMA = 0.9    # 奖励递减值\n",
    "MAX_EPISODES = 13   # 最大回合数\n",
    "FRESH_TIME = 0.3    # 移动间隔时间\n",
    "global inPortfolio\n",
    "inPortfolio = False # 是否持倉中\n",
    "global priceAtPurchase #損益\n",
    "priceAtPurchase = 0\n"
   ]
  },
  {
   "cell_type": "code",
   "execution_count": 16,
   "metadata": {},
   "outputs": [
    {
     "name": "stdout",
     "output_type": "stream",
     "text": [
      "Ticks2021-11-26.txt\n",
      "         Avg_line  deal  amplitude  volume  close\n",
      "295  17388.233108 -3892          5     553  17342\n",
      "296  17388.084175 -3785          4     443  17344\n",
      "297  17387.926174 -3598          6     617  17341\n",
      "298  17387.775920 -3507          4     615  17343\n",
      "299  17387.623333 -3510          9    1191  17342\n"
     ]
    }
   ],
   "source": [
    "direct=os.path.abspath('../data')\n",
    "filelist = os.listdir('../data')\n",
    "file = filelist[-1]\n",
    "print(file)\n",
    "dayticks = pd.read_csv(direct+'\\\\'+file,header=None,names=['ndatetime','nbid','nask','close','volume','deal'])\n",
    "dayticks['ndatetime'] = pd.to_datetime(dayticks['ndatetime'], format='%Y-%m-%d %H:%M:%S.%f')\n",
    "dayticks.sort_values(by=['ndatetime'],ascending=True)\n",
    "dayticks=dayticks[(dayticks.ndatetime.dt.hour>=8) & (dayticks.ndatetime.dt.hour<15)]\n",
    "dayticks.index = dayticks.ndatetime\n",
    "Candledf=dayticks['close'].resample('1min',closed='right').ohlc()\n",
    "tmpdf=dayticks['volume'].resample('1min').sum()\n",
    "Candledf=pd.concat([Candledf,tmpdf],axis=1)\n",
    "del tmpdf\n",
    "tmpdf=dayticks['deal'].resample('1min').sum()\n",
    "Candledf=pd.concat([Candledf,tmpdf],axis=1)\n",
    "del tmpdf\n",
    "Candledf['dealcumsum']=Candledf['deal'].cumsum()\n",
    "del Candledf['deal']\n",
    "Candledf.rename(columns={'dealcumsum':'deal'},inplace=True)\n",
    "Candledf=Candledf.rename_axis('ndatetime').reset_index()\n",
    "Candledf['ndatetime'] = pd.to_datetime(Candledf['ndatetime'], format='%Y-%m-%d %H:%M:%S.%f')\n",
    "Candledf.sort_values(by=['ndatetime'],ascending=True)\n",
    "tmpline=Candledf.close.cumsum()\n",
    "Candledf['Avg_line'] = tmpline.apply(lambda x: x/(tmpline[tmpline==x].index[0]+1))\n",
    "del tmpline\n",
    "Candledf['amplitude'] = Candledf.high - Candledf.low\n",
    "global CandleData\n",
    "CandleData = Candledf[['Avg_line','deal','amplitude','volume','close']]\n",
    "print(CandleData.tail())\n",
    "global Total_Trade\n",
    "Total_Trade = CandleData.shape[0]\n",
    "Start_Run_Trade = 3\n",
    "\n"
   ]
  },
  {
   "cell_type": "code",
   "execution_count": 17,
   "metadata": {},
   "outputs": [],
   "source": [
    "def build_q_table(n_states, actions):\n",
    "    table = pd.DataFrame(\n",
    "        np.zeros((n_states, len(actions))),     # q_table 全 0 初始\n",
    "        columns=actions,    # columns 对应的是行为名称\n",
    "    )\n",
    "    return table"
   ]
  },
  {
   "cell_type": "code",
   "execution_count": 30,
   "metadata": {},
   "outputs": [],
   "source": [
    "def choose_action(state, q_table):\n",
    "    state_actions = q_table.iloc[ (state), :]  # 选出这个 state 的所有 action 值\n",
    "    if (np.random.uniform() > EPSILON) or (state_actions.all() == 0):  # 非贪婪 or 或者这个 state 还没有探索过\n",
    "        action_name = np.random.choice(state_actions)\n",
    "    else:\n",
    "        action_name = state_actions.argmax()    # 贪婪模式\n",
    "    return action_name"
   ]
  },
  {
   "cell_type": "code",
   "execution_count": 31,
   "metadata": {},
   "outputs": [],
   "source": [
    "def select_state(pointer):\n",
    "    global CandleData\n",
    "    # Find the current price of the equity\n",
    "    if pointer<=0:\n",
    "        _pointer = 0\n",
    "    else:\n",
    "        _pointer = pointer    \n",
    "    current_price = CandleData.at[_pointer,'close']    \n",
    "    # Find the previous price of the equity\n",
    "    if pointer <= 0 :\n",
    "        previous_price = current_price\n",
    "    else:\n",
    "        previous_price = CandleData.at[pointer-1,'close']\n",
    "    if current_price > previous_price:\n",
    "        return 0  # Equity Appreciated\n",
    "    if current_price == previous_price:\n",
    "        return 1  # Equity Held Value\n",
    "    if current_price < previous_price:\n",
    "        return 2  # Equity Depreciated"
   ]
  },
  {
   "cell_type": "code",
   "execution_count": 32,
   "metadata": {},
   "outputs": [],
   "source": [
    "# # # for x in range(Total_Trade):\n",
    "# # #     result = select_state(x)\n",
    "# # #     print(result)\n",
    "# q_table = build_q_table(N_STATES, ACTIONS)\n",
    "# # # a=q_table.iloc[select_state(120), : ].max()\n",
    "# # # print(a)\n",
    "# trade = choose_action(132,q_table)\n",
    "# print(q_table)\n",
    "# print(trade)\n",
    "# a = select_state(133)\n",
    "# q_predict = q_table.iloc[select_state(133), int(trade)]\n",
    "# print(a)\n",
    "# print(q_predict)"
   ]
  },
  {
   "cell_type": "code",
   "execution_count": 33,
   "metadata": {},
   "outputs": [],
   "source": [
    "def determine_payoff(pointer,trade):\n",
    "    global inPortfolio\n",
    "    if inPortfolio :\n",
    "        if trade == 0 :\n",
    "            print('目前位置: {}'.format(CandleData.at[pointer,'close']))\n",
    "            print('持有價格: {}'.format(priceAtPurchase))\n",
    "            print('損益點數: {}'.format(CandleData.at[pointer,'close']-priceAtPurchase))\n",
    "            inPortfolio = True\n",
    "            return 0\n",
    "        if trade == 1 :\n",
    "            inPortfolio = False\n",
    "            print('目前位置: {}'.format(CandleData.at[pointer,'close']))\n",
    "            print('多單平倉: {}'.format(CandleData.at[pointer,'close']-priceAtPurchase))\n",
    "            return CandleData.at[pointer,'close']-priceAtPurchase\n",
    "        if trade == 2 :\n",
    "            inPortfolio = False\n",
    "            print('目前位置: {}'.format(CandleData.at[pointer,'close']))\n",
    "            print('空單平倉: {}'.format(priceAtPurchase-CandleData.at[pointer,'close']))\n",
    "            return priceAtPurchase-CandleData.at[pointer,'close']\n",
    "    if inPortfolio is False:\n",
    "        if trade == 0:\n",
    "            inPortfolio = False\n",
    "            return 0\n",
    "        if trade == 1:\n",
    "            inPortfolio = True\n",
    "            print('目前位置: {}'.format(CandleData.at[pointer,'close']))\n",
    "            print('多單進場: {}'.format(priceAtPurchase))\n",
    "            return 0\n",
    "        if trade == 2:\n",
    "            inPortfolio = True\n",
    "            print('目前位置: {}'.format(CandleData.at[pointer,'close']))\n",
    "            print('空單進單進場: {}'.format(priceAtPurchase))\n",
    "            return 0      \n"
   ]
  },
  {
   "cell_type": "code",
   "execution_count": 34,
   "metadata": {},
   "outputs": [],
   "source": [
    "aggregate_profit =[]\n",
    "def rl():\n",
    "    global Total_Trade\n",
    "    q_table = build_q_table(N_STATES, ACTIONS)  # 初始 q table\n",
    "    profit = 0\n",
    "    for x in range(Start_Run_Trade,Total_Trade,1):\n",
    "        trade = choose_action(x-1,q_table)\n",
    "        result = determine_payoff(x, trade)\n",
    "        aggregate_profit.append(result)\n",
    "        profit += result\n",
    "        q_predict = q_table.iloc[select_state(x), int(trade)]\n",
    "        q_target = result + GAMMA * q_table.iloc[select_state(x), : ].max()\n",
    "        q_table.iloc[select_state(x), int(trade)] += ALPHA * (q_target - q_predict)\n",
    "    profit = np.sum(aggregate_profit)\n",
    "    return q_table, profit\n",
    "    \n",
    "    \n"
   ]
  },
  {
   "cell_type": "code",
   "execution_count": 35,
   "metadata": {},
   "outputs": [
    {
     "name": "stdout",
     "output_type": "stream",
     "text": [
      "   buy  sell\n",
      "0  0.0   0.0\n",
      "1  0.0   0.0\n",
      "2  0.0   0.0\n",
      "總損益: 0\n"
     ]
    }
   ],
   "source": [
    "if __name__ == '__main__':\n",
    "    q_table, profit = rl()\n",
    "    calc_profits = profit*200\n",
    "    print(q_table)\n",
    "    print('總損益: {}'.format(calc_profits))"
   ]
  }
 ],
 "metadata": {
  "interpreter": {
   "hash": "f96efbd20990c9b87154ff1e04974328ba5cd93cb6fdf3bf0ba6a60073362e50"
  },
  "kernelspec": {
   "display_name": "Python 3.9.6 64-bit",
   "name": "python3"
  },
  "language_info": {
   "codemirror_mode": {
    "name": "ipython",
    "version": 3
   },
   "file_extension": ".py",
   "mimetype": "text/x-python",
   "name": "python",
   "nbconvert_exporter": "python",
   "pygments_lexer": "ipython3",
   "version": "3.9.6"
  },
  "orig_nbformat": 4
 },
 "nbformat": 4,
 "nbformat_minor": 2
}
