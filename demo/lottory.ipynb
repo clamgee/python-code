{
 "cells": [
  {
   "cell_type": "code",
   "execution_count": null,
   "metadata": {},
   "outputs": [],
   "source": [
    "import numpy as np\n",
    "import pandas as pd\n",
    "lottorydf = pd.read_csv('lottory.csv')\n",
    "lottorydf=lottorydf.sort_values(by=['期號'],ascending=True)\n",
    "lottorydf=lottorydf.reset_index(drop=True)\n",
    "lottorydf[['預測1','預測2','預測3','預測4','預測5','預測6','預測2區']] = lottorydf[['前1','前2','前3','前4','前5','前6','后區']].shift(-1)\n",
    "print(lottorydf.tail())\n",
    "print(lottorydf.shape)"
   ]
  },
  {
   "cell_type": "code",
   "execution_count": null,
   "metadata": {},
   "outputs": [],
   "source": [
    "# print(lottorydf.iloc[:,8:14]/38)\n",
    "lottorydf[['預測1','預測2','預測3','預測4','預測5','預測6']]=lottorydf[['預測1','預測2','預測3','預測4','預測5','預測6']]/38\n",
    "lottorydf[['前1','前2','前3','前4','前5','前6']]=lottorydf[['前1','前2','前3','前4','前5','前6']]/38\n",
    "lottorydf[['后區','預測2區']]=lottorydf[['后區','預測2區']]/8\n",
    "print(lottorydf.tail())"
   ]
  },
  {
   "cell_type": "code",
   "execution_count": null,
   "metadata": {},
   "outputs": [],
   "source": [
    "def preparedata(df, ref_day, predict_day):\n",
    "    X_train, Y_train = [], []\n",
    "    for i in range(df.shape[0]-predict_day-ref_day+1):\n",
    "        X_train.append(np.array(df.iloc[i:i+ref_day,1:8]))\n",
    "        Y_train.append(np.array(df.iloc[i+ref_day:i+ref_day+predict_day,8:15]))\n",
    "    return np.array(X_train), np.array(Y_train)"
   ]
  },
  {
   "cell_type": "code",
   "execution_count": null,
   "metadata": {},
   "outputs": [],
   "source": [
    "X_train,Y_train= preparedata(lottorydf[:lottorydf.shape[0]-18],8,1)\n",
    "X_train=X_train.transpose(0,2,1)\n",
    "Y_train=Y_train.transpose(0,2,1)\n",
    "print(X_train.shape,len(X_train),Y_train.shape,len(Y_train),X_train.ndim)\n",
    "X_test,Y_test = preparedata(lottorydf[lottorydf.shape[0]-18:],8,1)\n",
    "X_test=X_test.transpose(0,2,1)\n",
    "Y_test=Y_test.transpose(0,2,1)\n",
    "print(X_test.shape,len(X_test),Y_test.shape,len(Y_test),X_test.ndim)"
   ]
  },
  {
   "cell_type": "code",
   "execution_count": null,
   "metadata": {},
   "outputs": [],
   "source": [
    "from tensorflow.keras import Sequential\n",
    "from tensorflow.keras.layers import LSTM,Dense,Activation\n",
    "import tensorflow as tf"
   ]
  },
  {
   "cell_type": "code",
   "execution_count": null,
   "metadata": {},
   "outputs": [],
   "source": [
    "model = Sequential()\n",
    "model.add(LSTM(49,input_shape=(7,8),activation='relu'))#, return_sequences=True, stateful=True))\n",
    "model.add(Dense(1,activation='sigmoid'))\n",
    "model.compile(optimizer = 'adam', loss = 'mean_squared_error',metrics = ['accuracy'])\n",
    "model.summary()"
   ]
  },
  {
   "cell_type": "code",
   "execution_count": null,
   "metadata": {},
   "outputs": [],
   "source": [
    "model.fit(X_train,Y_train, epochs=10,batch_size=1)\n"
   ]
  },
  {
   "cell_type": "code",
   "execution_count": null,
   "metadata": {},
   "outputs": [],
   "source": [
    "model.evaluate(X_test,Y_test,batch_size=1)\n",
    "predicts = model.predict(X_test,batch_size=1)\n",
    "print(type(predicts))\n",
    "print(predicts)\n",
    "# print(model.predict_classes(X_test,batch_size=1))"
   ]
  },
  {
   "cell_type": "code",
   "execution_count": null,
   "metadata": {},
   "outputs": [],
   "source": [
    "print(predicts.shape)\n",
    "a = predicts.transpose(0,2,1)\n",
    "new= a.squeeze()\n",
    "new = pd.DataFrame(new)\n",
    "new[[0,1,2,3,4,5]] = new[[0,1,2,3,4,5]]*38\n",
    "new[[6]]=new[[6]]*8\n",
    "new = new.astype(int)\n",
    "new"
   ]
  }
 ],
 "metadata": {
  "interpreter": {
   "hash": "f96efbd20990c9b87154ff1e04974328ba5cd93cb6fdf3bf0ba6a60073362e50"
  },
  "kernelspec": {
   "display_name": "Python 3.9.6 64-bit",
   "language": "python",
   "name": "python3"
  },
  "language_info": {
   "codemirror_mode": {
    "name": "ipython",
    "version": 3
   },
   "file_extension": ".py",
   "mimetype": "text/x-python",
   "name": "python",
   "nbconvert_exporter": "python",
   "pygments_lexer": "ipython3",
   "version": "3.9.6"
  },
  "orig_nbformat": 4
 },
 "nbformat": 4,
 "nbformat_minor": 2
}
