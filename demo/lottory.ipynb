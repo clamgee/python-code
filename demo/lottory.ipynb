{
 "cells": [
  {
   "cell_type": "code",
   "execution_count": 1,
   "metadata": {},
   "outputs": [
    {
     "name": "stdout",
     "output_type": "stream",
     "text": [
      "         期號  前1  前2  前3  前4  前5  前6  后區   預測1   預測2   預測3   預測4   預測5   預測6  \\\n",
      "416  110086  10  18  32  27   3  14   7  37.0  16.0  32.0  10.0  19.0  22.0   \n",
      "417  110087  37  16  32  10  19  22   6  38.0  11.0   5.0  37.0   9.0  35.0   \n",
      "418  110088  38  11   5  37   9  35   4   6.0  33.0  30.0  22.0   8.0  18.0   \n",
      "419  110089   6  33  30  22   8  18   4  37.0   8.0   2.0  12.0   1.0  33.0   \n",
      "420  110090  37   8   2  12   1  33   2   NaN   NaN   NaN   NaN   NaN   NaN   \n",
      "\n",
      "     預測2區  \n",
      "416   6.0  \n",
      "417   4.0  \n",
      "418   4.0  \n",
      "419   2.0  \n",
      "420   NaN  \n",
      "(421, 15)\n"
     ]
    }
   ],
   "source": [
    "import numpy as np\n",
    "import pandas as pd\n",
    "lottorydf = pd.read_csv('lottory.csv')\n",
    "lottorydf=lottorydf.sort_values(by=['期號'],ascending=True)\n",
    "lottorydf=lottorydf.reset_index(drop=True)\n",
    "lottorydf[['預測1','預測2','預測3','預測4','預測5','預測6','預測2區']] = lottorydf[['前1','前2','前3','前4','前5','前6','后區']].shift(-1)\n",
    "print(lottorydf.tail())\n",
    "print(lottorydf.shape)"
   ]
  },
  {
   "cell_type": "code",
   "execution_count": 2,
   "metadata": {},
   "outputs": [
    {
     "name": "stdout",
     "output_type": "stream",
     "text": [
      "         期號        前1        前2        前3        前4        前5        前6  \\\n",
      "416  110086  0.263158  0.473684  0.842105  0.710526  0.078947  0.368421   \n",
      "417  110087  0.973684  0.421053  0.842105  0.263158  0.500000  0.578947   \n",
      "418  110088  1.000000  0.289474  0.131579  0.973684  0.236842  0.921053   \n",
      "419  110089  0.157895  0.868421  0.789474  0.578947  0.210526  0.473684   \n",
      "420  110090  0.973684  0.210526  0.052632  0.315789  0.026316  0.868421   \n",
      "\n",
      "        后區       預測1       預測2       預測3       預測4       預測5       預測6  預測2區  \n",
      "416  0.875  0.973684  0.421053  0.842105  0.263158  0.500000  0.578947  0.75  \n",
      "417  0.750  1.000000  0.289474  0.131579  0.973684  0.236842  0.921053  0.50  \n",
      "418  0.500  0.157895  0.868421  0.789474  0.578947  0.210526  0.473684  0.50  \n",
      "419  0.500  0.973684  0.210526  0.052632  0.315789  0.026316  0.868421  0.25  \n",
      "420  0.250       NaN       NaN       NaN       NaN       NaN       NaN   NaN  \n"
     ]
    }
   ],
   "source": [
    "# print(lottorydf.iloc[:,8:14]/38)\n",
    "lottorydf[['預測1','預測2','預測3','預測4','預測5','預測6']]=lottorydf[['預測1','預測2','預測3','預測4','預測5','預測6']]/38\n",
    "lottorydf[['前1','前2','前3','前4','前5','前6']]=lottorydf[['前1','前2','前3','前4','前5','前6']]/38\n",
    "lottorydf[['后區','預測2區']]=lottorydf[['后區','預測2區']]/8\n",
    "print(lottorydf.tail())"
   ]
  },
  {
   "cell_type": "code",
   "execution_count": 3,
   "metadata": {},
   "outputs": [],
   "source": [
    "def preparedata(df, ref_day, predict_day):\n",
    "    X_train, Y_train = [], []\n",
    "    for i in range(df.shape[0]-predict_day-ref_day+1):\n",
    "        X_train.append(np.array(df.iloc[i:i+ref_day,1:8]))\n",
    "        Y_train.append(np.array(df.iloc[i+ref_day:i+ref_day+predict_day,8:15]))\n",
    "    return np.array(X_train), np.array(Y_train)"
   ]
  },
  {
   "cell_type": "code",
   "execution_count": 4,
   "metadata": {},
   "outputs": [
    {
     "name": "stdout",
     "output_type": "stream",
     "text": [
      "3 (395, 8, 7)\n"
     ]
    }
   ],
   "source": [
    "X_train,Y_train= preparedata(lottorydf[:lottorydf.shape[0]-18],8,1)\n",
    "print(np.ndim(X_train),X_train.shape)\n",
    "# X_train=X_train.transpose(0,2,1)\n",
    "# Y_train=Y_train.transpose(0,2,1)\n",
    "# print(X_train.shape,len(X_train),Y_train.shape,len(Y_train),X_train.ndim)\n",
    "X_test,Y_test = preparedata(lottorydf[lottorydf.shape[0]-18:],8,1)\n",
    "# X_test=X_test.transpose(0,2,1)\n",
    "# Y_test=Y_test.transpose(0,2,1)\n",
    "# print(X_test.shape,len(X_test),Y_test.shape,len(Y_test),X_test.ndim)"
   ]
  },
  {
   "cell_type": "code",
   "execution_count": 5,
   "metadata": {},
   "outputs": [],
   "source": [
    "from tensorflow.keras import Sequential\n",
    "from tensorflow.keras.layers import LSTM,Dense,Activation\n",
    "import tensorflow as tf"
   ]
  },
  {
   "cell_type": "code",
   "execution_count": 6,
   "metadata": {},
   "outputs": [
    {
     "name": "stdout",
     "output_type": "stream",
     "text": [
      "WARNING:tensorflow:Layer lstm will not use cuDNN kernels since it doesn't meet the criteria. It will use a generic GPU kernel as fallback when running on GPU.\n",
      "Model: \"sequential\"\n",
      "_________________________________________________________________\n",
      "Layer (type)                 Output Shape              Param #   \n",
      "=================================================================\n",
      "lstm (LSTM)                  (None, 64)                18432     \n",
      "_________________________________________________________________\n",
      "dense (Dense)                (None, 7)                 455       \n",
      "=================================================================\n",
      "Total params: 18,887\n",
      "Trainable params: 18,887\n",
      "Non-trainable params: 0\n",
      "_________________________________________________________________\n"
     ]
    }
   ],
   "source": [
    "model = Sequential()\n",
    "model.add(LSTM(64,input_shape=(8,7),input_dim=3,activation='relu'))#, return_sequences=True, stateful=True))\n",
    "model.add(Dense(7,activation='sigmoid'))\n",
    "model.compile(optimizer = 'adam', loss = 'mean_squared_error',metrics = ['accuracy'])\n",
    "model.summary()"
   ]
  },
  {
   "cell_type": "code",
   "execution_count": 7,
   "metadata": {},
   "outputs": [
    {
     "name": "stdout",
     "output_type": "stream",
     "text": [
      "Epoch 1/10\n",
      "395/395 [==============================] - 35s 82ms/step - loss: 0.0305 - accuracy: 0.8228\n",
      "Epoch 2/10\n",
      "395/395 [==============================] - 32s 80ms/step - loss: 0.0273 - accuracy: 0.8633\n",
      "Epoch 3/10\n",
      "395/395 [==============================] - 32s 80ms/step - loss: 0.0274 - accuracy: 0.8633\n",
      "Epoch 4/10\n",
      "395/395 [==============================] - 31s 80ms/step - loss: 0.0273 - accuracy: 0.8633\n",
      "Epoch 5/10\n",
      "395/395 [==============================] - 30s 77ms/step - loss: 0.0270 - accuracy: 0.8633\n",
      "Epoch 6/10\n",
      "395/395 [==============================] - 29s 74ms/step - loss: 0.0270 - accuracy: 0.8633\n",
      "Epoch 7/10\n",
      "395/395 [==============================] - 30s 77ms/step - loss: 0.0270 - accuracy: 0.8633\n",
      "Epoch 8/10\n",
      "395/395 [==============================] - 29s 74ms/step - loss: 0.0270 - accuracy: 0.8633\n",
      "Epoch 9/10\n",
      "395/395 [==============================] - 29s 74ms/step - loss: 0.0271 - accuracy: 0.8633\n",
      "Epoch 10/10\n",
      "395/395 [==============================] - 30s 75ms/step - loss: 0.0270 - accuracy: 0.8633\n"
     ]
    },
    {
     "data": {
      "text/plain": [
       "<keras.callbacks.History at 0x1c9ad7d5190>"
      ]
     },
     "execution_count": 7,
     "metadata": {},
     "output_type": "execute_result"
    }
   ],
   "source": [
    "model.fit(X_train,Y_train, epochs=10,batch_size=1)\n"
   ]
  },
  {
   "cell_type": "code",
   "execution_count": 8,
   "metadata": {},
   "outputs": [
    {
     "name": "stdout",
     "output_type": "stream",
     "text": [
      "10/10 [==============================] - 1s 30ms/step - loss: nan - accuracy: 0.3000\n",
      "<class 'numpy.ndarray'>\n",
      "[[0.14504245 0.26510802 0.41451466 0.60996556 0.7488702  0.8881377\n",
      "  0.53359234]\n",
      " [0.14129123 0.2663765  0.4116583  0.61425763 0.76204056 0.8920982\n",
      "  0.5162861 ]\n",
      " [0.1428836  0.26752293 0.41407275 0.60957325 0.76011187 0.89010435\n",
      "  0.51293415]\n",
      " [0.1381352  0.25953412 0.4132961  0.6106447  0.7509256  0.892419\n",
      "  0.53165   ]\n",
      " [0.13551734 0.26244467 0.4115346  0.6122937  0.7692827  0.8966286\n",
      "  0.50992215]\n",
      " [0.13909502 0.26621673 0.41141152 0.61302805 0.76701146 0.8930232\n",
      "  0.5123506 ]\n",
      " [0.14511262 0.26355028 0.4166121  0.5976693  0.7467349  0.8907958\n",
      "  0.52477336]\n",
      " [0.1475675  0.26523036 0.4208604  0.5927843  0.7429097  0.88737136\n",
      "  0.5286314 ]\n",
      " [0.14821708 0.26494738 0.42299476 0.59383124 0.74509686 0.8909946\n",
      "  0.52694786]\n",
      " [0.14807232 0.26433465 0.42221704 0.5933696  0.7453955  0.8941891\n",
      "  0.51733077]]\n"
     ]
    },
    {
     "ename": "AttributeError",
     "evalue": "'Sequential' object has no attribute 'predict_classes'",
     "output_type": "error",
     "traceback": [
      "\u001b[1;31m---------------------------------------------------------------------------\u001b[0m",
      "\u001b[1;31mAttributeError\u001b[0m                            Traceback (most recent call last)",
      "\u001b[1;32m~\\AppData\\Local\\Temp/ipykernel_15924/2292749153.py\u001b[0m in \u001b[0;36m<module>\u001b[1;34m\u001b[0m\n\u001b[0;32m      3\u001b[0m \u001b[0mprint\u001b[0m\u001b[1;33m(\u001b[0m\u001b[0mtype\u001b[0m\u001b[1;33m(\u001b[0m\u001b[0mpredicts\u001b[0m\u001b[1;33m)\u001b[0m\u001b[1;33m)\u001b[0m\u001b[1;33m\u001b[0m\u001b[1;33m\u001b[0m\u001b[0m\n\u001b[0;32m      4\u001b[0m \u001b[0mprint\u001b[0m\u001b[1;33m(\u001b[0m\u001b[0mpredicts\u001b[0m\u001b[1;33m)\u001b[0m\u001b[1;33m\u001b[0m\u001b[1;33m\u001b[0m\u001b[0m\n\u001b[1;32m----> 5\u001b[1;33m \u001b[0mprint\u001b[0m\u001b[1;33m(\u001b[0m\u001b[0mmodel\u001b[0m\u001b[1;33m.\u001b[0m\u001b[0mpredict_classes\u001b[0m\u001b[1;33m(\u001b[0m\u001b[0mX_test\u001b[0m\u001b[1;33m)\u001b[0m\u001b[1;33m)\u001b[0m\u001b[1;33m\u001b[0m\u001b[1;33m\u001b[0m\u001b[0m\n\u001b[0m",
      "\u001b[1;31mAttributeError\u001b[0m: 'Sequential' object has no attribute 'predict_classes'"
     ]
    }
   ],
   "source": [
    "model.evaluate(X_test,Y_test,batch_size=1)\n",
    "predicts = model.predict(X_test,batch_size=1)\n",
    "print(type(predicts))\n",
    "print(predicts)\n",
    "print(model.predict_classes(X_test))"
   ]
  },
  {
   "cell_type": "code",
   "execution_count": null,
   "metadata": {},
   "outputs": [],
   "source": [
    "print(predicts.shape)\n",
    "# a = predicts.transpose(0,2,1)\n",
    "# new= a.squeeze()\n",
    "new = pd.DataFrame(predicts)\n",
    "new[[0,1,2,3,4,5]] = new[[0,1,2,3,4,5]]*38\n",
    "new[[6]]=new[[6]]*8\n",
    "new = new.astype(int)\n",
    "new\n"
   ]
  }
 ],
 "metadata": {
  "interpreter": {
   "hash": "f96efbd20990c9b87154ff1e04974328ba5cd93cb6fdf3bf0ba6a60073362e50"
  },
  "kernelspec": {
   "display_name": "Python 3.9.6 64-bit",
   "language": "python",
   "name": "python3"
  },
  "language_info": {
   "codemirror_mode": {
    "name": "ipython",
    "version": 3
   },
   "file_extension": ".py",
   "mimetype": "text/x-python",
   "name": "python",
   "nbconvert_exporter": "python",
   "pygments_lexer": "ipython3",
   "version": "3.9.6"
  },
  "orig_nbformat": 4
 },
 "nbformat": 4,
 "nbformat_minor": 2
}
