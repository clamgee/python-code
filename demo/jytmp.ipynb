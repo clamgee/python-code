{
 "cells": [
  {
   "cell_type": "code",
   "execution_count": 45,
   "metadata": {},
   "outputs": [
    {
     "name": "stdout",
     "output_type": "stream",
     "text": [
      "                ndatetime   open   high    low  close  volume\n",
      "10037 2021-10-29 11:24:05  16943  16958  16936  16957   12000\n",
      "10038 2021-10-29 12:00:00  16956  16976  16943  16960   12000\n",
      "10039 2021-10-29 12:30:05  16960  16965  16938  16944   12000\n",
      "10040 2021-10-29 13:11:58  16944  16965  16940  16945   12000\n",
      "10041 2021-10-29 13:35:42  16946  16958  16943  16945    6758\n"
     ]
    }
   ],
   "source": [
    "import numpy as np\n",
    "import pandas as pd\n",
    "import tensorflow as tf\n",
    "import matplotlib.pyplot as plt\n",
    "import seaborn as sns\n",
    "tf.compat.v1.disable_eager_execution()\n",
    "sns.set()\n",
    "Candledf=pd.read_csv('../result.dat',low_memory=False)\n",
    "Candledf['ndatetime']=pd.to_datetime(Candledf['ndatetime'],format='%Y-%m-%d %H:%M:%S.%f')\n",
    "print(Candledf.tail())"
   ]
  },
  {
   "cell_type": "code",
   "execution_count": 46,
   "metadata": {},
   "outputs": [],
   "source": [
    "from collections import deque\n",
    "import random"
   ]
  },
  {
   "cell_type": "code",
   "execution_count": 47,
   "metadata": {},
   "outputs": [],
   "source": [
    "class Agent:\n",
    "    def __init__(self, state_size, window_size, trend, skip, batch_size):\n",
    "        self.state_size = state_size\n",
    "        self.window_size = window_size\n",
    "        self.half_window = window_size // 2\n",
    "        self.trend = trend\n",
    "        self.skip = skip\n",
    "        self.action_size = 3\n",
    "        self.batch_size = batch_size\n",
    "        self.memory = deque(maxlen = 1000)\n",
    "        self.inventory = []\n",
    "\n",
    "        self.gamma = 0.95\n",
    "        self.epsilon = 0.5\n",
    "        self.epsilon_min = 0.01\n",
    "        self.epsilon_decay = 0.999\n",
    "\n",
    "        tf.compat.v1.reset_default_graph()\n",
    "        self.sess = tf.compat.v1.InteractiveSession()\n",
    "        self.X = tf.compat.v1.placeholder(tf.float32, [None, self.state_size])\n",
    "        self.Y = tf.compat.v1.placeholder(tf.float32, [None, self.action_size])\n",
    "        feed = tf.compat.v1.layers.dense(self.X, 256, activation = tf.nn.relu)\n",
    "        self.logits = tf.compat.v1.layers.dense(feed, self.action_size)\n",
    "        self.cost = tf.compat.v1.reduce_mean(tf.square(self.Y - self.logits))\n",
    "        self.optimizer = tf.compat.v1.train.GradientDescentOptimizer(1e-5).minimize(\n",
    "            self.cost\n",
    "        )\n",
    "        init = tf.compat.v1.global_variables_initializer()\n",
    "        self.sess.run(init)\n",
    "\n",
    "    def act(self, state):\n",
    "        if random.random() <= self.epsilon:\n",
    "            return random.randrange(self.action_size)\n",
    "        return np.argmax(\n",
    "            self.sess.run(self.logits, feed_dict = {self.X: state})[0]\n",
    "        )\n",
    "    \n",
    "    def get_state(self, t):\n",
    "        window_size = self.window_size + 1\n",
    "        d = t - window_size + 1\n",
    "        block = self.trend[d : t + 1] if d >= 0 else -d * [self.trend[0]] + self.trend[0 : t + 1]\n",
    "        res = []\n",
    "        for i in range(window_size - 1):\n",
    "            res.append(block[i + 1] - block[i])\n",
    "        return np.array([res])\n",
    "\n",
    "    def replay(self, batch_size):\n",
    "        mini_batch = []\n",
    "        l = len(self.memory)\n",
    "        for i in range(l - batch_size, l):\n",
    "            mini_batch.append(self.memory[i])\n",
    "        replay_size = len(mini_batch)\n",
    "        X = np.empty((replay_size, self.state_size))\n",
    "        Y = np.empty((replay_size, self.action_size))\n",
    "        states = np.array([a[0][0] for a in mini_batch])\n",
    "        new_states = np.array([a[3][0] for a in mini_batch])\n",
    "        Q = self.sess.run(self.logits, feed_dict = {self.X: states})\n",
    "        Q_new = self.sess.run(self.logits, feed_dict = {self.X: new_states})\n",
    "        for i in range(len(mini_batch)):\n",
    "            state, action, reward, next_state, done = mini_batch[i]\n",
    "            target = Q[i]\n",
    "            target[action] = reward\n",
    "            if not done:\n",
    "                target[action] += self.gamma * np.amax(Q_new[i])\n",
    "            X[i] = state\n",
    "            Y[i] = target\n",
    "        cost, _ = self.sess.run(\n",
    "            [self.cost, self.optimizer], feed_dict = {self.X: X, self.Y: Y}\n",
    "        )\n",
    "        if self.epsilon > self.epsilon_min:\n",
    "            self.epsilon *= self.epsilon_decay\n",
    "        return cost\n",
    "    \n",
    "    def buy(self, initial_money):\n",
    "        starting_money = initial_money\n",
    "        states_sell = []\n",
    "        states_buy = []\n",
    "        inventory = []\n",
    "        state = self.get_state(0)\n",
    "        for t in range(0, len(self.trend) - 1, self.skip):\n",
    "            action = self.act(state)\n",
    "            next_state = self.get_state(t + 1)\n",
    "            \n",
    "            if action == 1 and initial_money >= self.trend[t] and t < (len(self.trend) - self.half_window):\n",
    "                inventory.append(self.trend[t])\n",
    "                initial_money -= self.trend[t]\n",
    "                states_buy.append(t)\n",
    "                print('day %d: buy 1 unit at price %f, total balance %f'% (t, self.trend[t], initial_money))\n",
    "                \n",
    "                \n",
    "            elif action == 2 and len(inventory):\n",
    "                bought_price = inventory.pop(0)\n",
    "                initial_money += self.trend[t]\n",
    "                states_sell.append(t)\n",
    "                try:\n",
    "                    invest = ((close[t] - bought_price) / bought_price) * 100\n",
    "                except:\n",
    "                    invest = 0\n",
    "                print(\n",
    "                    'day %d, sell 1 unit at price %f, investment %f %%, total balance %f,'\n",
    "                    % (t, close[t], invest, initial_money)\n",
    "                )\n",
    "            \n",
    "            state = next_state\n",
    "        invest = ((initial_money - starting_money) / starting_money) * 100\n",
    "        total_gains = initial_money - starting_money\n",
    "        return states_buy, states_sell, total_gains, invest\n",
    "        \n",
    "    def train(self, iterations, checkpoint, initial_money):\n",
    "        for i in range(iterations):\n",
    "            total_profit = 0\n",
    "            inventory = []\n",
    "            state = self.get_state(0)\n",
    "            starting_money = initial_money\n",
    "            for t in range(0, len(self.trend) - 1, self.skip):\n",
    "                action = self.act(state)\n",
    "                next_state = self.get_state(t + 1)\n",
    "                \n",
    "                if action == 1 and starting_money >= self.trend[t] and t < (len(self.trend) - self.half_window):\n",
    "                    inventory.append(self.trend[t])\n",
    "                    starting_money -= self.trend[t]\n",
    "                \n",
    "                elif action == 2 and len(inventory) > 0:\n",
    "                    bought_price = inventory.pop(0)\n",
    "                    total_profit += self.trend[t] - bought_price\n",
    "                    starting_money += self.trend[t]\n",
    "                    \n",
    "                invest = ((starting_money - initial_money) / initial_money)\n",
    "                self.memory.append((state, action, invest, \n",
    "                                    next_state, starting_money < initial_money))\n",
    "                state = next_state\n",
    "                batch_size = min(self.batch_size, len(self.memory))\n",
    "                cost = self.replay(batch_size)\n",
    "            if (i+1) % checkpoint == 0:\n",
    "                print('epoch: %d, total rewards: %f.3, cost: %f, total money: %f'%(i + 1, total_profit, cost, starting_money))"
   ]
  },
  {
   "cell_type": "code",
   "execution_count": 48,
   "metadata": {},
   "outputs": [
    {
     "name": "stderr",
     "output_type": "stream",
     "text": [
      "C:\\Users\\Owner\\AppData\\Local\\Programs\\Python\\Python39\\lib\\site-packages\\tensorflow\\python\\client\\session.py:1766: UserWarning: An interactive session is already active. This can cause out-of-memory errors in some cases. You must explicitly call `InteractiveSession.close()` to release resources held by the other session(s).\n",
      "  warnings.warn('An interactive session is already active. This can '\n",
      "C:\\Users\\Owner\\AppData\\Local\\Programs\\Python\\Python39\\lib\\site-packages\\keras\\legacy_tf_layers\\core.py:236: UserWarning: `tf.layers.dense` is deprecated and will be removed in a future version. Please use `tf.keras.layers.Dense` instead.\n",
      "  warnings.warn('`tf.layers.dense` is deprecated and '\n",
      "C:\\Users\\Owner\\AppData\\Local\\Programs\\Python\\Python39\\lib\\site-packages\\keras\\engine\\base_layer_v1.py:1676: UserWarning: `layer.apply` is deprecated and will be removed in a future version. Please use `layer.__call__` method instead.\n",
      "  warnings.warn('`layer.apply` is deprecated and '\n"
     ]
    },
    {
     "name": "stdout",
     "output_type": "stream",
     "text": [
      "epoch: 10, total rewards: 1538.000000.3, cost: 0.544140, total money: 11538.000000\n",
      "epoch: 20, total rewards: 950.000000.3, cost: 0.142383, total money: 10950.000000\n",
      "epoch: 30, total rewards: 668.000000.3, cost: 0.052679, total money: 10668.000000\n",
      "epoch: 40, total rewards: -124.000000.3, cost: 0.164914, total money: 9876.000000\n",
      "epoch: 50, total rewards: 301.000000.3, cost: 0.006335, total money: 10301.000000\n",
      "epoch: 60, total rewards: -416.000000.3, cost: 0.002215, total money: 9584.000000\n",
      "epoch: 70, total rewards: 181.000000.3, cost: 0.011088, total money: 10181.000000\n",
      "epoch: 80, total rewards: -64.000000.3, cost: 0.039492, total money: 9936.000000\n",
      "epoch: 90, total rewards: -21.000000.3, cost: 0.004168, total money: 9979.000000\n",
      "epoch: 100, total rewards: 221.000000.3, cost: 0.010318, total money: 10221.000000\n",
      "epoch: 110, total rewards: -171.000000.3, cost: 0.001155, total money: 9829.000000\n",
      "epoch: 120, total rewards: 452.000000.3, cost: 0.008326, total money: 10452.000000\n",
      "epoch: 130, total rewards: 509.000000.3, cost: 0.005752, total money: 10509.000000\n",
      "epoch: 140, total rewards: 19.000000.3, cost: 0.012500, total money: 10019.000000\n",
      "epoch: 150, total rewards: -46.000000.3, cost: 0.000384, total money: 9954.000000\n",
      "epoch: 160, total rewards: -160.000000.3, cost: 0.002008, total money: 9840.000000\n",
      "epoch: 170, total rewards: 140.000000.3, cost: 0.165458, total money: 10140.000000\n",
      "epoch: 180, total rewards: -4.000000.3, cost: 0.000473, total money: 9996.000000\n",
      "epoch: 190, total rewards: 130.000000.3, cost: 0.090012, total money: 10130.000000\n",
      "epoch: 200, total rewards: -145.000000.3, cost: 0.002287, total money: 9855.000000\n"
     ]
    }
   ],
   "source": [
    "close = Candledf.close.to_list()\n",
    "initial_money = 10000\n",
    "window_size = 30\n",
    "skip = 1\n",
    "batch_size = 32\n",
    "agent = Agent(state_size = 30, window_size = 30,trend = close,  skip = skip, batch_size = batch_size)\n",
    "agent.train(iterations = 200, checkpoint = 10, initial_money = initial_money)"
   ]
  },
  {
   "cell_type": "code",
   "execution_count": 49,
   "metadata": {},
   "outputs": [
    {
     "name": "stdout",
     "output_type": "stream",
     "text": [
      "day 3608: buy 1 unit at price 8334.000000, total balance 1666.000000\n",
      "day 3609, sell 1 unit at price 8325.000000, investment -0.107991 %, total balance 9991.000000,\n",
      "day 3671: buy 1 unit at price 9077.000000, total balance 914.000000\n",
      "day 3672, sell 1 unit at price 9017.000000, investment -0.661011 %, total balance 9931.000000,\n",
      "day 3699: buy 1 unit at price 8811.000000, total balance 1120.000000\n",
      "day 3700, sell 1 unit at price 9183.000000, investment 4.221995 %, total balance 10303.000000,\n",
      "day 3762: buy 1 unit at price 9638.000000, total balance 665.000000\n",
      "day 3763, sell 1 unit at price 9547.000000, investment -0.944179 %, total balance 10212.000000,\n",
      "day 3775: buy 1 unit at price 9826.000000, total balance 386.000000\n",
      "day 3776, sell 1 unit at price 9755.000000, investment -0.722573 %, total balance 10141.000000,\n",
      "day 3785: buy 1 unit at price 9580.000000, total balance 561.000000\n",
      "day 3786, sell 1 unit at price 9599.000000, investment 0.198330 %, total balance 10160.000000,\n",
      "day 3864: buy 1 unit at price 9614.000000, total balance 546.000000\n",
      "day 3865, sell 1 unit at price 9559.000000, investment -0.572082 %, total balance 10105.000000,\n",
      "day 3900: buy 1 unit at price 9997.000000, total balance 108.000000\n",
      "day 3901, sell 1 unit at price 10105.000000, investment 1.080324 %, total balance 10213.000000,\n",
      "day 3902: buy 1 unit at price 10150.000000, total balance 63.000000\n",
      "day 3903, sell 1 unit at price 10170.000000, investment 0.197044 %, total balance 10233.000000,\n",
      "day 3909: buy 1 unit at price 9977.000000, total balance 256.000000\n",
      "day 3911, sell 1 unit at price 10065.000000, investment 0.882029 %, total balance 10321.000000,\n",
      "day 3919: buy 1 unit at price 10056.000000, total balance 265.000000\n",
      "day 3920, sell 1 unit at price 10048.000000, investment -0.079554 %, total balance 10313.000000,\n",
      "day 3926: buy 1 unit at price 10082.000000, total balance 231.000000\n",
      "day 3927, sell 1 unit at price 10092.000000, investment 0.099187 %, total balance 10323.000000,\n",
      "day 3938: buy 1 unit at price 10070.000000, total balance 253.000000\n",
      "day 3939, sell 1 unit at price 10090.000000, investment 0.198610 %, total balance 10343.000000,\n",
      "day 3945: buy 1 unit at price 10043.000000, total balance 300.000000\n",
      "day 3946, sell 1 unit at price 10063.000000, investment 0.199144 %, total balance 10363.000000,\n",
      "day 3961: buy 1 unit at price 10075.000000, total balance 288.000000\n",
      "day 3962, sell 1 unit at price 10071.000000, investment -0.039702 %, total balance 10359.000000,\n",
      "day 3974: buy 1 unit at price 10072.000000, total balance 287.000000\n",
      "day 3975, sell 1 unit at price 10073.000000, investment 0.009929 %, total balance 10360.000000,\n",
      "day 4068: buy 1 unit at price 10119.000000, total balance 241.000000\n",
      "day 4069, sell 1 unit at price 10086.000000, investment -0.326119 %, total balance 10327.000000,\n",
      "day 4101: buy 1 unit at price 10275.000000, total balance 52.000000\n",
      "day 4102, sell 1 unit at price 10303.000000, investment 0.272506 %, total balance 10355.000000,\n",
      "day 4127: buy 1 unit at price 10275.000000, total balance 80.000000\n",
      "day 4128, sell 1 unit at price 10261.000000, investment -0.136253 %, total balance 10341.000000,\n"
     ]
    }
   ],
   "source": [
    "states_buy, states_sell, total_gains, invest = agent.buy(initial_money = initial_money)"
   ]
  },
  {
   "cell_type": "code",
   "execution_count": 50,
   "metadata": {},
   "outputs": [
    {
     "data": {
      "image/png": "[encoded data removed]",
      "text/plain": [
       "<Figure size 1080x360 with 1 Axes>"
      ]
     },
     "metadata": {},
     "output_type": "display_data"
    }
   ],
   "source": [
    "\n",
    "fig = plt.figure(figsize = (15,5))\n",
    "plt.plot(close, color='r', lw=2.)\n",
    "plt.plot(close, '^', markersize=10, color='m', label = 'buying signal', markevery = states_buy)\n",
    "plt.plot(close, 'v', markersize=10, color='k', label = 'selling signal', markevery = states_sell)\n",
    "plt.title('total gains %f, total investment %f%%'%(total_gains, invest))\n",
    "plt.legend()\n",
    "plt.show()"
   ]
  },
  {
   "cell_type": "code",
   "execution_count": null,
   "metadata": {},
   "outputs": [],
   "source": []
  }
 ],
 "metadata": {
  "interpreter": {
   "hash": "f96efbd20990c9b87154ff1e04974328ba5cd93cb6fdf3bf0ba6a60073362e50"
  },
  "kernelspec": {
   "display_name": "Python 3.9.6 64-bit",
   "name": "python3"
  },
  "language_info": {
   "codemirror_mode": {
    "name": "ipython",
    "version": 3
   },
   "file_extension": ".py",
   "mimetype": "text/x-python",
   "name": "python",
   "nbconvert_exporter": "python",
   "pygments_lexer": "ipython3",
   "version": "3.9.6"
  },
  "orig_nbformat": 4
 },
 "nbformat": 4,
 "nbformat_minor": 2
}
