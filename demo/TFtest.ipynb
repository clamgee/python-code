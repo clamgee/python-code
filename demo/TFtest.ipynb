{
 "cells": [
  {
   "cell_type": "code",
   "execution_count": 47,
   "metadata": {},
   "outputs": [
    {
     "name": "stdout",
     "output_type": "stream",
     "text": [
      "net.w: <tf.Variable 'kernel:0' shape=(3, 2) dtype=float32, numpy=\n",
      "array([[-0.3890481 ,  0.39112937],\n",
      "       [ 0.8697113 ,  0.13425934],\n",
      "       [ 0.13820052,  0.8496635 ]], dtype=float32)>\n",
      "net.b: <tf.Variable 'bias:0' shape=(2,) dtype=float32, numpy=array([0., 0.], dtype=float32)>\n"
     ]
    }
   ],
   "source": [
    "import tensorflow as tf\n",
    "import numpy as np \n",
    "import pandas as pd\n",
    "rows = 10\n",
    "net = tf.keras.layers.Dense(2) # 一个隐藏层，一个神经元\n",
    "net.build((rows, 3)) # 每个训练数据有1个特征\n",
    "print(\"net.w:\", net.kernel) # 参数个数\n",
    "print(\"net.b:\", net.bias) # 和Dense数一样\n"
   ]
  }
 ],
 "metadata": {
  "interpreter": {
   "hash": "f96efbd20990c9b87154ff1e04974328ba5cd93cb6fdf3bf0ba6a60073362e50"
  },
  "kernelspec": {
   "display_name": "Python 3.9.6 64-bit",
   "name": "python3"
  },
  "language_info": {
   "codemirror_mode": {
    "name": "ipython",
    "version": 3
   },
   "file_extension": ".py",
   "mimetype": "text/x-python",
   "name": "python",
   "nbconvert_exporter": "python",
   "pygments_lexer": "ipython3",
   "version": "3.9.6"
  },
  "orig_nbformat": 4
 },
 "nbformat": 4,
 "nbformat_minor": 2
}
