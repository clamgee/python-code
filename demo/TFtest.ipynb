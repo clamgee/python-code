{
 "cells": [
  {
   "cell_type": "code",
   "execution_count": 1,
   "metadata": {},
   "outputs": [],
   "source": [
    "import pandas as pd\n",
    "import numpy as np\n",
    "import time\n",
    "import datetime\n",
    "import os\n",
    "\n",
    "N_STATES = 5   # 1维世界的宽度 0:買進,1:買進平倉,2:賣出,3:賣出平倉, 4:無動作\n",
    "ACTIONS = ['action','close-avg','deal','amp_cover','vol_cover']     # 探索者的可用动作\n",
    "EPSILON = 0.9   # 贪婪度 greedy\n",
    "ALPHA = 0.1     # 学习率\n",
    "GAMMA = 0.9    # 奖励递减值\n",
    "MAX_EPISODES = 13   # 最大回合数\n",
    "FRESH_TIME = 0.3    # 移动间隔时间\n",
    "global inPortfolio\n",
    "inPortfolio = False # 是否持倉中\n",
    "global priceAtPurchase #損益\n",
    "priceAtPurchase = 0\n"
   ]
  },
  {
   "cell_type": "code",
   "execution_count": 2,
   "metadata": {},
   "outputs": [
    {
     "name": "stdout",
     "output_type": "stream",
     "text": [
      "Ticks2021-11-26.txt\n",
      "     close_Avg  deal  amplitude  volume  close\n",
      "295 -46.233108 -3892          5     553  17342\n",
      "296 -44.084175 -3785          4     443  17344\n",
      "297 -46.926174 -3598          6     617  17341\n",
      "298 -44.775920 -3507          4     615  17343\n",
      "299 -45.623333 -3510          9    1191  17342\n"
     ]
    }
   ],
   "source": [
    "direct=os.path.abspath('../data')\n",
    "filelist = os.listdir('../data')\n",
    "file = filelist[-1]\n",
    "print(file)\n",
    "dayticks = pd.read_csv(direct+'\\\\'+file,header=None,names=['ndatetime','nbid','nask','close','volume','deal'])\n",
    "dayticks['ndatetime'] = pd.to_datetime(dayticks['ndatetime'], format='%Y-%m-%d %H:%M:%S.%f')\n",
    "dayticks.sort_values(by=['ndatetime'],ascending=True)\n",
    "dayticks=dayticks[(dayticks.ndatetime.dt.hour>=8) & (dayticks.ndatetime.dt.hour<15)]\n",
    "dayticks.index = dayticks.ndatetime\n",
    "Candledf=dayticks['close'].resample('1min',closed='right').ohlc()\n",
    "tmpdf=dayticks['volume'].resample('1min').sum()\n",
    "Candledf=pd.concat([Candledf,tmpdf],axis=1)\n",
    "del tmpdf\n",
    "tmpdf=dayticks['deal'].resample('1min').sum()\n",
    "Candledf=pd.concat([Candledf,tmpdf],axis=1)\n",
    "del tmpdf\n",
    "Candledf['dealcumsum']=Candledf['deal'].cumsum()\n",
    "del Candledf['deal']\n",
    "Candledf.rename(columns={'dealcumsum':'deal'},inplace=True)\n",
    "Candledf=Candledf.rename_axis('ndatetime').reset_index()\n",
    "Candledf['ndatetime'] = pd.to_datetime(Candledf['ndatetime'], format='%Y-%m-%d %H:%M:%S.%f')\n",
    "Candledf.sort_values(by=['ndatetime'],ascending=True)\n",
    "tmpline=Candledf.close.cumsum()\n",
    "Candledf['Avg_line'] = tmpline.apply(lambda x: x/(tmpline[tmpline==x].index[0]+1))\n",
    "del tmpline\n",
    "Candledf['amplitude'] = Candledf.high - Candledf.low\n",
    "Candledf['close_Avg'] = Candledf.close - Candledf.Avg_line\n",
    "global CandleData\n",
    "CandleData = Candledf[['ndatetime','close_Avg','deal','amplitude','volume','close']]\n",
    "print(CandleData.tail())\n",
    "global Total_Trade\n",
    "Total_Trade = CandleData.shape[0]\n",
    "Start_Run_Trade = 3\n",
    "\n"
   ]
  },
  {
   "cell_type": "code",
   "execution_count": null,
   "metadata": {},
   "outputs": [],
   "source": [
    "# https://blog.csdn.net/joinquantdata/article/details/87254611?spm=1001.2101.3001.6650.6&utm_medium=distribute.pc_relevant.none-task-blog-2%7Edefault%7EBlogCommendFromBaidu%7Edefault-6.no_search_link&depth_1-utm_source=distribute.pc_relevant.none-task-blog-2%7Edefault%7EBlogCommendFromBaidu%7Edefault-6.no_search_link\n",
    "class Market:\n",
    "    def __init__(self,data) -> None:\n",
    "        self.action_list = ['Buy','Sell','Wait'] # 買進、賣出、觀望\n",
    "        self.actions = len(self.action_list)\n",
    "        self.data = data # 1分鐘 K線資料\n",
    "        self.time = self.data.at[0,'ndatetime']\n",
    "\n",
    "        pass"
   ]
  }
 ],
 "metadata": {
  "interpreter": {
   "hash": "f96efbd20990c9b87154ff1e04974328ba5cd93cb6fdf3bf0ba6a60073362e50"
  },
  "kernelspec": {
   "display_name": "Python 3.9.6 64-bit",
   "name": "python3"
  },
  "language_info": {
   "codemirror_mode": {
    "name": "ipython",
    "version": 3
   },
   "file_extension": ".py",
   "mimetype": "text/x-python",
   "name": "python",
   "nbconvert_exporter": "python",
   "pygments_lexer": "ipython3",
   "version": "3.9.6"
  },
  "orig_nbformat": 4
 },
 "nbformat": 4,
 "nbformat_minor": 2
}
