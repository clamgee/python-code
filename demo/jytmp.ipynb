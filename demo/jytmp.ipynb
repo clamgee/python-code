{
 "cells": [
  {
   "cell_type": "code",
   "execution_count": 4,
   "metadata": {},
   "outputs": [
    {
     "data": {
      "text/plain": [
       "['c:\\\\Users\\\\Owner\\\\Documents\\\\python-code\\\\demo',\n",
       " 'c:\\\\Users\\\\Owner\\\\.vscode\\\\extensions\\\\ms-toolsai.jupyter-2021.9.1101343141\\\\pythonFiles',\n",
       " 'c:\\\\Users\\\\Owner\\\\.vscode\\\\extensions\\\\ms-toolsai.jupyter-2021.9.1101343141\\\\pythonFiles\\\\lib\\\\python',\n",
       " 'C:\\\\Users\\\\Owner\\\\AppData\\\\Local\\\\Programs\\\\Python\\\\Python39\\\\python39.zip',\n",
       " 'C:\\\\Users\\\\Owner\\\\AppData\\\\Local\\\\Programs\\\\Python\\\\Python39\\\\DLLs',\n",
       " 'C:\\\\Users\\\\Owner\\\\AppData\\\\Local\\\\Programs\\\\Python\\\\Python39\\\\lib',\n",
       " 'C:\\\\Users\\\\Owner\\\\AppData\\\\Local\\\\Programs\\\\Python\\\\Python39',\n",
       " '',\n",
       " 'C:\\\\Users\\\\Owner\\\\AppData\\\\Roaming\\\\Python\\\\Python39\\\\site-packages',\n",
       " 'C:\\\\Users\\\\Owner\\\\AppData\\\\Local\\\\Programs\\\\Python\\\\Python39\\\\lib\\\\site-packages',\n",
       " 'C:\\\\Users\\\\Owner\\\\AppData\\\\Local\\\\Programs\\\\Python\\\\Python39\\\\lib\\\\site-packages\\\\win32',\n",
       " 'C:\\\\Users\\\\Owner\\\\AppData\\\\Local\\\\Programs\\\\Python\\\\Python39\\\\lib\\\\site-packages\\\\win32\\\\lib',\n",
       " 'C:\\\\Users\\\\Owner\\\\AppData\\\\Local\\\\Programs\\\\Python\\\\Python39\\\\lib\\\\site-packages\\\\Pythonwin',\n",
       " 'C:\\\\Users\\\\Owner\\\\AppData\\\\Local\\\\Programs\\\\Python\\\\Python39\\\\lib\\\\site-packages\\\\IPython\\\\extensions',\n",
       " 'C:\\\\Users\\\\Owner\\\\.ipython']"
      ]
     },
     "execution_count": 4,
     "metadata": {},
     "output_type": "execute_result"
    }
   ],
   "source": [
    "import sys\n",
    "sys.path"
   ]
  },
  {
   "cell_type": "code",
   "execution_count": null,
   "metadata": {},
   "outputs": [],
   "source": []
  }
 ],
 "metadata": {
  "interpreter": {
   "hash": "f96efbd20990c9b87154ff1e04974328ba5cd93cb6fdf3bf0ba6a60073362e50"
  },
  "kernelspec": {
   "display_name": "Python 3.9.6 64-bit",
   "name": "python3"
  },
  "language_info": {
   "codemirror_mode": {
    "name": "ipython",
    "version": 3
   },
   "file_extension": ".py",
   "mimetype": "text/x-python",
   "name": "python",
   "nbconvert_exporter": "python",
   "pygments_lexer": "ipython3",
   "version": "3.9.6"
  },
  "orig_nbformat": 4
 },
 "nbformat": 4,
 "nbformat_minor": 2
}
